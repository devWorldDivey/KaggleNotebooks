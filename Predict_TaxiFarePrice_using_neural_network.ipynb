{
  "nbformat": 4,
  "nbformat_minor": 0,
  "metadata": {
    "colab": {
      "provenance": [],
      "authorship_tag": "ABX9TyO8TAlAxjGOJR4T192qHWf2",
      "include_colab_link": true
    },
    "kernelspec": {
      "name": "python3",
      "display_name": "Python 3"
    },
    "language_info": {
      "name": "python"
    }
  },
  "cells": [
    {
      "cell_type": "markdown",
      "metadata": {
        "id": "view-in-github",
        "colab_type": "text"
      },
      "source": [
        "<a href=\"https://colab.research.google.com/github/devWorldDivey/KaggleNotebooks/blob/main/Predict_TaxiFarePrice_using_neural_network.ipynb\" target=\"_parent\"><img src=\"https://colab.research.google.com/assets/colab-badge.svg\" alt=\"Open In Colab\"/></a>"
      ]
    },
    {
      "cell_type": "code",
      "execution_count": 2,
      "metadata": {
        "id": "BgrCrmLXiUmU"
      },
      "outputs": [],
      "source": [
        "import tensorflow\n",
        "import pandas as pd"
      ]
    },
    {
      "cell_type": "code",
      "source": [
        "df = pd.read_csv('/content/taxifare.csv', parse_dates=['pickup_datetime'])\n",
        "df.head()"
      ],
      "metadata": {
        "colab": {
          "base_uri": "https://localhost:8080/",
          "height": 357
        },
        "id": "Wuc8baM8idVs",
        "outputId": "66141c70-7fe3-4611-9203-e509eda1623f"
      },
      "execution_count": 4,
      "outputs": [
        {
          "output_type": "execute_result",
          "data": {
            "text/plain": [
              "                             key  fare_amount           pickup_datetime  \\\n",
              "0  2014-06-15 17:11:00.000000107          7.0 2014-06-15 17:11:00+00:00   \n",
              "1   2011-03-14 22:43:00.00000095          4.9 2011-03-14 22:43:00+00:00   \n",
              "2   2011-02-14 15:14:00.00000067          6.1 2011-02-14 15:14:00+00:00   \n",
              "3   2009-10-29 11:29:00.00000040          6.9 2009-10-29 11:29:00+00:00   \n",
              "4   2011-07-02 10:38:00.00000028         10.5 2011-07-02 10:38:00+00:00   \n",
              "\n",
              "   pickup_longitude  pickup_latitude  dropoff_longitude  dropoff_latitude  \\\n",
              "0        -73.995420        40.759662         -73.987607         40.751247   \n",
              "1        -73.993552        40.731110         -73.998497         40.737200   \n",
              "2        -73.972380        40.749527         -73.990638         40.745328   \n",
              "3        -73.973703        40.763542         -73.984253         40.758603   \n",
              "4        -73.921262        40.743615         -73.967383         40.765162   \n",
              "\n",
              "   passenger_count  \n",
              "0                1  \n",
              "1                5  \n",
              "2                1  \n",
              "3                5  \n",
              "4                1  "
            ],
            "text/html": [
              "\n",
              "  <div id=\"df-7d27bd53-447e-4fb2-b0c9-932886fee284\">\n",
              "    <div class=\"colab-df-container\">\n",
              "      <div>\n",
              "<style scoped>\n",
              "    .dataframe tbody tr th:only-of-type {\n",
              "        vertical-align: middle;\n",
              "    }\n",
              "\n",
              "    .dataframe tbody tr th {\n",
              "        vertical-align: top;\n",
              "    }\n",
              "\n",
              "    .dataframe thead th {\n",
              "        text-align: right;\n",
              "    }\n",
              "</style>\n",
              "<table border=\"1\" class=\"dataframe\">\n",
              "  <thead>\n",
              "    <tr style=\"text-align: right;\">\n",
              "      <th></th>\n",
              "      <th>key</th>\n",
              "      <th>fare_amount</th>\n",
              "      <th>pickup_datetime</th>\n",
              "      <th>pickup_longitude</th>\n",
              "      <th>pickup_latitude</th>\n",
              "      <th>dropoff_longitude</th>\n",
              "      <th>dropoff_latitude</th>\n",
              "      <th>passenger_count</th>\n",
              "    </tr>\n",
              "  </thead>\n",
              "  <tbody>\n",
              "    <tr>\n",
              "      <th>0</th>\n",
              "      <td>2014-06-15 17:11:00.000000107</td>\n",
              "      <td>7.0</td>\n",
              "      <td>2014-06-15 17:11:00+00:00</td>\n",
              "      <td>-73.995420</td>\n",
              "      <td>40.759662</td>\n",
              "      <td>-73.987607</td>\n",
              "      <td>40.751247</td>\n",
              "      <td>1</td>\n",
              "    </tr>\n",
              "    <tr>\n",
              "      <th>1</th>\n",
              "      <td>2011-03-14 22:43:00.00000095</td>\n",
              "      <td>4.9</td>\n",
              "      <td>2011-03-14 22:43:00+00:00</td>\n",
              "      <td>-73.993552</td>\n",
              "      <td>40.731110</td>\n",
              "      <td>-73.998497</td>\n",
              "      <td>40.737200</td>\n",
              "      <td>5</td>\n",
              "    </tr>\n",
              "    <tr>\n",
              "      <th>2</th>\n",
              "      <td>2011-02-14 15:14:00.00000067</td>\n",
              "      <td>6.1</td>\n",
              "      <td>2011-02-14 15:14:00+00:00</td>\n",
              "      <td>-73.972380</td>\n",
              "      <td>40.749527</td>\n",
              "      <td>-73.990638</td>\n",
              "      <td>40.745328</td>\n",
              "      <td>1</td>\n",
              "    </tr>\n",
              "    <tr>\n",
              "      <th>3</th>\n",
              "      <td>2009-10-29 11:29:00.00000040</td>\n",
              "      <td>6.9</td>\n",
              "      <td>2009-10-29 11:29:00+00:00</td>\n",
              "      <td>-73.973703</td>\n",
              "      <td>40.763542</td>\n",
              "      <td>-73.984253</td>\n",
              "      <td>40.758603</td>\n",
              "      <td>5</td>\n",
              "    </tr>\n",
              "    <tr>\n",
              "      <th>4</th>\n",
              "      <td>2011-07-02 10:38:00.00000028</td>\n",
              "      <td>10.5</td>\n",
              "      <td>2011-07-02 10:38:00+00:00</td>\n",
              "      <td>-73.921262</td>\n",
              "      <td>40.743615</td>\n",
              "      <td>-73.967383</td>\n",
              "      <td>40.765162</td>\n",
              "      <td>1</td>\n",
              "    </tr>\n",
              "  </tbody>\n",
              "</table>\n",
              "</div>\n",
              "      <button class=\"colab-df-convert\" onclick=\"convertToInteractive('df-7d27bd53-447e-4fb2-b0c9-932886fee284')\"\n",
              "              title=\"Convert this dataframe to an interactive table.\"\n",
              "              style=\"display:none;\">\n",
              "        \n",
              "  <svg xmlns=\"http://www.w3.org/2000/svg\" height=\"24px\"viewBox=\"0 0 24 24\"\n",
              "       width=\"24px\">\n",
              "    <path d=\"M0 0h24v24H0V0z\" fill=\"none\"/>\n",
              "    <path d=\"M18.56 5.44l.94 2.06.94-2.06 2.06-.94-2.06-.94-.94-2.06-.94 2.06-2.06.94zm-11 1L8.5 8.5l.94-2.06 2.06-.94-2.06-.94L8.5 2.5l-.94 2.06-2.06.94zm10 10l.94 2.06.94-2.06 2.06-.94-2.06-.94-.94-2.06-.94 2.06-2.06.94z\"/><path d=\"M17.41 7.96l-1.37-1.37c-.4-.4-.92-.59-1.43-.59-.52 0-1.04.2-1.43.59L10.3 9.45l-7.72 7.72c-.78.78-.78 2.05 0 2.83L4 21.41c.39.39.9.59 1.41.59.51 0 1.02-.2 1.41-.59l7.78-7.78 2.81-2.81c.8-.78.8-2.07 0-2.86zM5.41 20L4 18.59l7.72-7.72 1.47 1.35L5.41 20z\"/>\n",
              "  </svg>\n",
              "      </button>\n",
              "      \n",
              "  <style>\n",
              "    .colab-df-container {\n",
              "      display:flex;\n",
              "      flex-wrap:wrap;\n",
              "      gap: 12px;\n",
              "    }\n",
              "\n",
              "    .colab-df-convert {\n",
              "      background-color: #E8F0FE;\n",
              "      border: none;\n",
              "      border-radius: 50%;\n",
              "      cursor: pointer;\n",
              "      display: none;\n",
              "      fill: #1967D2;\n",
              "      height: 32px;\n",
              "      padding: 0 0 0 0;\n",
              "      width: 32px;\n",
              "    }\n",
              "\n",
              "    .colab-df-convert:hover {\n",
              "      background-color: #E2EBFA;\n",
              "      box-shadow: 0px 1px 2px rgba(60, 64, 67, 0.3), 0px 1px 3px 1px rgba(60, 64, 67, 0.15);\n",
              "      fill: #174EA6;\n",
              "    }\n",
              "\n",
              "    [theme=dark] .colab-df-convert {\n",
              "      background-color: #3B4455;\n",
              "      fill: #D2E3FC;\n",
              "    }\n",
              "\n",
              "    [theme=dark] .colab-df-convert:hover {\n",
              "      background-color: #434B5C;\n",
              "      box-shadow: 0px 1px 3px 1px rgba(0, 0, 0, 0.15);\n",
              "      filter: drop-shadow(0px 1px 2px rgba(0, 0, 0, 0.3));\n",
              "      fill: #FFFFFF;\n",
              "    }\n",
              "  </style>\n",
              "\n",
              "      <script>\n",
              "        const buttonEl =\n",
              "          document.querySelector('#df-7d27bd53-447e-4fb2-b0c9-932886fee284 button.colab-df-convert');\n",
              "        buttonEl.style.display =\n",
              "          google.colab.kernel.accessAllowed ? 'block' : 'none';\n",
              "\n",
              "        async function convertToInteractive(key) {\n",
              "          const element = document.querySelector('#df-7d27bd53-447e-4fb2-b0c9-932886fee284');\n",
              "          const dataTable =\n",
              "            await google.colab.kernel.invokeFunction('convertToInteractive',\n",
              "                                                     [key], {});\n",
              "          if (!dataTable) return;\n",
              "\n",
              "          const docLinkHtml = 'Like what you see? Visit the ' +\n",
              "            '<a target=\"_blank\" href=https://colab.research.google.com/notebooks/data_table.ipynb>data table notebook</a>'\n",
              "            + ' to learn more about interactive tables.';\n",
              "          element.innerHTML = '';\n",
              "          dataTable['output_type'] = 'display_data';\n",
              "          await google.colab.output.renderOutput(dataTable, element);\n",
              "          const docLink = document.createElement('div');\n",
              "          docLink.innerHTML = docLinkHtml;\n",
              "          element.appendChild(docLink);\n",
              "        }\n",
              "      </script>\n",
              "    </div>\n",
              "  </div>\n",
              "  "
            ]
          },
          "metadata": {},
          "execution_count": 4
        }
      ]
    },
    {
      "cell_type": "code",
      "source": [
        "from math import sqrt\n",
        "\n",
        "df = df[df['passenger_count'] == 1]\n",
        "df = df.drop(['key', 'passenger_count'], axis=1)\n",
        "\n",
        "for i, row in df.iterrows():\n",
        "    dt = row['pickup_datetime']\n",
        "    df.at[i, 'day_of_week'] = dt.weekday()\n",
        "    df.at[i, 'pickup_time'] = dt.hour\n",
        "    x = (row['dropoff_longitude'] - row['pickup_longitude']) * 54.6\n",
        "    y = (row['dropoff_latitude'] - row['pickup_latitude']) * 69.0\n",
        "    distance = sqrt(x**2 + y**2)\n",
        "    df.at[i, 'distance'] = distance\n",
        "\n",
        "df.drop(['pickup_datetime', 'pickup_longitude', 'pickup_latitude',\n",
        "         'dropoff_longitude', 'dropoff_latitude'], axis=1, inplace=True)\n",
        "\n",
        "df = df[(df['distance'] > 1.0) & (df['distance'] < 10.0)]\n",
        "df = df[(df['fare_amount'] > 0.0) & (df['fare_amount'] < 50.0)]\n",
        "df.head()\n"
      ],
      "metadata": {
        "colab": {
          "base_uri": "https://localhost:8080/",
          "height": 206
        },
        "id": "UqeO3t51jCy1",
        "outputId": "a05604a5-9a45-4058-ba53-59ca19a2a9e2"
      },
      "execution_count": 6,
      "outputs": [
        {
          "output_type": "execute_result",
          "data": {
            "text/plain": [
              "   fare_amount  day_of_week  pickup_time  distance\n",
              "2          6.1          0.0         15.0  1.038136\n",
              "4         10.5          5.0         10.0  2.924341\n",
              "5         15.3          4.0         20.0  4.862893\n",
              "8          7.7          5.0          1.0  2.603493\n",
              "9          8.9          3.0         16.0  1.365739"
            ],
            "text/html": [
              "\n",
              "  <div id=\"df-72e822b0-38eb-41cc-8c78-5c469a98ee40\">\n",
              "    <div class=\"colab-df-container\">\n",
              "      <div>\n",
              "<style scoped>\n",
              "    .dataframe tbody tr th:only-of-type {\n",
              "        vertical-align: middle;\n",
              "    }\n",
              "\n",
              "    .dataframe tbody tr th {\n",
              "        vertical-align: top;\n",
              "    }\n",
              "\n",
              "    .dataframe thead th {\n",
              "        text-align: right;\n",
              "    }\n",
              "</style>\n",
              "<table border=\"1\" class=\"dataframe\">\n",
              "  <thead>\n",
              "    <tr style=\"text-align: right;\">\n",
              "      <th></th>\n",
              "      <th>fare_amount</th>\n",
              "      <th>day_of_week</th>\n",
              "      <th>pickup_time</th>\n",
              "      <th>distance</th>\n",
              "    </tr>\n",
              "  </thead>\n",
              "  <tbody>\n",
              "    <tr>\n",
              "      <th>2</th>\n",
              "      <td>6.1</td>\n",
              "      <td>0.0</td>\n",
              "      <td>15.0</td>\n",
              "      <td>1.038136</td>\n",
              "    </tr>\n",
              "    <tr>\n",
              "      <th>4</th>\n",
              "      <td>10.5</td>\n",
              "      <td>5.0</td>\n",
              "      <td>10.0</td>\n",
              "      <td>2.924341</td>\n",
              "    </tr>\n",
              "    <tr>\n",
              "      <th>5</th>\n",
              "      <td>15.3</td>\n",
              "      <td>4.0</td>\n",
              "      <td>20.0</td>\n",
              "      <td>4.862893</td>\n",
              "    </tr>\n",
              "    <tr>\n",
              "      <th>8</th>\n",
              "      <td>7.7</td>\n",
              "      <td>5.0</td>\n",
              "      <td>1.0</td>\n",
              "      <td>2.603493</td>\n",
              "    </tr>\n",
              "    <tr>\n",
              "      <th>9</th>\n",
              "      <td>8.9</td>\n",
              "      <td>3.0</td>\n",
              "      <td>16.0</td>\n",
              "      <td>1.365739</td>\n",
              "    </tr>\n",
              "  </tbody>\n",
              "</table>\n",
              "</div>\n",
              "      <button class=\"colab-df-convert\" onclick=\"convertToInteractive('df-72e822b0-38eb-41cc-8c78-5c469a98ee40')\"\n",
              "              title=\"Convert this dataframe to an interactive table.\"\n",
              "              style=\"display:none;\">\n",
              "        \n",
              "  <svg xmlns=\"http://www.w3.org/2000/svg\" height=\"24px\"viewBox=\"0 0 24 24\"\n",
              "       width=\"24px\">\n",
              "    <path d=\"M0 0h24v24H0V0z\" fill=\"none\"/>\n",
              "    <path d=\"M18.56 5.44l.94 2.06.94-2.06 2.06-.94-2.06-.94-.94-2.06-.94 2.06-2.06.94zm-11 1L8.5 8.5l.94-2.06 2.06-.94-2.06-.94L8.5 2.5l-.94 2.06-2.06.94zm10 10l.94 2.06.94-2.06 2.06-.94-2.06-.94-.94-2.06-.94 2.06-2.06.94z\"/><path d=\"M17.41 7.96l-1.37-1.37c-.4-.4-.92-.59-1.43-.59-.52 0-1.04.2-1.43.59L10.3 9.45l-7.72 7.72c-.78.78-.78 2.05 0 2.83L4 21.41c.39.39.9.59 1.41.59.51 0 1.02-.2 1.41-.59l7.78-7.78 2.81-2.81c.8-.78.8-2.07 0-2.86zM5.41 20L4 18.59l7.72-7.72 1.47 1.35L5.41 20z\"/>\n",
              "  </svg>\n",
              "      </button>\n",
              "      \n",
              "  <style>\n",
              "    .colab-df-container {\n",
              "      display:flex;\n",
              "      flex-wrap:wrap;\n",
              "      gap: 12px;\n",
              "    }\n",
              "\n",
              "    .colab-df-convert {\n",
              "      background-color: #E8F0FE;\n",
              "      border: none;\n",
              "      border-radius: 50%;\n",
              "      cursor: pointer;\n",
              "      display: none;\n",
              "      fill: #1967D2;\n",
              "      height: 32px;\n",
              "      padding: 0 0 0 0;\n",
              "      width: 32px;\n",
              "    }\n",
              "\n",
              "    .colab-df-convert:hover {\n",
              "      background-color: #E2EBFA;\n",
              "      box-shadow: 0px 1px 2px rgba(60, 64, 67, 0.3), 0px 1px 3px 1px rgba(60, 64, 67, 0.15);\n",
              "      fill: #174EA6;\n",
              "    }\n",
              "\n",
              "    [theme=dark] .colab-df-convert {\n",
              "      background-color: #3B4455;\n",
              "      fill: #D2E3FC;\n",
              "    }\n",
              "\n",
              "    [theme=dark] .colab-df-convert:hover {\n",
              "      background-color: #434B5C;\n",
              "      box-shadow: 0px 1px 3px 1px rgba(0, 0, 0, 0.15);\n",
              "      filter: drop-shadow(0px 1px 2px rgba(0, 0, 0, 0.3));\n",
              "      fill: #FFFFFF;\n",
              "    }\n",
              "  </style>\n",
              "\n",
              "      <script>\n",
              "        const buttonEl =\n",
              "          document.querySelector('#df-72e822b0-38eb-41cc-8c78-5c469a98ee40 button.colab-df-convert');\n",
              "        buttonEl.style.display =\n",
              "          google.colab.kernel.accessAllowed ? 'block' : 'none';\n",
              "\n",
              "        async function convertToInteractive(key) {\n",
              "          const element = document.querySelector('#df-72e822b0-38eb-41cc-8c78-5c469a98ee40');\n",
              "          const dataTable =\n",
              "            await google.colab.kernel.invokeFunction('convertToInteractive',\n",
              "                                                     [key], {});\n",
              "          if (!dataTable) return;\n",
              "\n",
              "          const docLinkHtml = 'Like what you see? Visit the ' +\n",
              "            '<a target=\"_blank\" href=https://colab.research.google.com/notebooks/data_table.ipynb>data table notebook</a>'\n",
              "            + ' to learn more about interactive tables.';\n",
              "          element.innerHTML = '';\n",
              "          dataTable['output_type'] = 'display_data';\n",
              "          await google.colab.output.renderOutput(dataTable, element);\n",
              "          const docLink = document.createElement('div');\n",
              "          docLink.innerHTML = docLinkHtml;\n",
              "          element.appendChild(docLink);\n",
              "        }\n",
              "      </script>\n",
              "    </div>\n",
              "  </div>\n",
              "  "
            ]
          },
          "metadata": {},
          "execution_count": 6
        }
      ]
    },
    {
      "cell_type": "markdown",
      "source": [
        "##### Following statements to create a network with an input layer that accepts three values (day, time, and distance), two hidden layers with 512 neurons each, and an output layer with a single neuron (the predicted fare amount)"
      ],
      "metadata": {
        "id": "ZwQ7qswrjaLY"
      }
    },
    {
      "cell_type": "code",
      "source": [
        "from tensorflow.keras.models import Sequential\n",
        "from tensorflow.keras.layers import Dense\n",
        "\n",
        "model = Sequential()\n",
        "model.add(Dense(512, activation='relu', input_dim=3))\n",
        "model.add(Dense(512, activation='relu'))\n",
        "model.add(Dense(1))\n",
        "model.compile(optimizer='adam', loss='mae', metrics=['mae'])\n",
        "model.summary()"
      ],
      "metadata": {
        "colab": {
          "base_uri": "https://localhost:8080/"
        },
        "id": "XA-dczWkjRWu",
        "outputId": "32460355-3ec6-4abc-d664-0e4c35c08422"
      },
      "execution_count": 7,
      "outputs": [
        {
          "output_type": "stream",
          "name": "stdout",
          "text": [
            "Model: \"sequential\"\n",
            "_________________________________________________________________\n",
            " Layer (type)                Output Shape              Param #   \n",
            "=================================================================\n",
            " dense (Dense)               (None, 512)               2048      \n",
            "                                                                 \n",
            " dense_1 (Dense)             (None, 512)               262656    \n",
            "                                                                 \n",
            " dense_2 (Dense)             (None, 1)                 513       \n",
            "                                                                 \n",
            "=================================================================\n",
            "Total params: 265,217\n",
            "Trainable params: 265,217\n",
            "Non-trainable params: 0\n",
            "_________________________________________________________________\n"
          ]
        }
      ]
    },
    {
      "cell_type": "code",
      "source": [
        "x = df.drop('fare_amount', axis=1)\n",
        "y = df['fare_amount']\n",
        "\n",
        "hist = model.fit(x, y, validation_split=0.2, epochs=100, batch_size=100)"
      ],
      "metadata": {
        "colab": {
          "base_uri": "https://localhost:8080/"
        },
        "id": "lAhJ628Ojnft",
        "outputId": "ab481614-5e05-46c4-ff5b-9ac8ff6bf7c8"
      },
      "execution_count": 8,
      "outputs": [
        {
          "output_type": "stream",
          "name": "stdout",
          "text": [
            "Epoch 1/100\n",
            "187/187 [==============================] - 3s 10ms/step - loss: 2.8993 - mae: 2.8993 - val_loss: 2.3827 - val_mae: 2.3827\n",
            "Epoch 2/100\n",
            "187/187 [==============================] - 2s 9ms/step - loss: 2.3961 - mae: 2.3961 - val_loss: 2.3727 - val_mae: 2.3727\n",
            "Epoch 3/100\n",
            "187/187 [==============================] - 3s 16ms/step - loss: 2.3759 - mae: 2.3759 - val_loss: 2.3546 - val_mae: 2.3546\n",
            "Epoch 4/100\n",
            "187/187 [==============================] - 2s 10ms/step - loss: 2.3806 - mae: 2.3806 - val_loss: 2.3609 - val_mae: 2.3609\n",
            "Epoch 5/100\n",
            "187/187 [==============================] - 2s 10ms/step - loss: 2.3806 - mae: 2.3806 - val_loss: 2.3669 - val_mae: 2.3669\n",
            "Epoch 6/100\n",
            "187/187 [==============================] - 2s 10ms/step - loss: 2.3844 - mae: 2.3844 - val_loss: 2.3737 - val_mae: 2.3737\n",
            "Epoch 7/100\n",
            "187/187 [==============================] - 2s 9ms/step - loss: 2.3708 - mae: 2.3708 - val_loss: 2.3542 - val_mae: 2.3542\n",
            "Epoch 8/100\n",
            "187/187 [==============================] - 2s 10ms/step - loss: 2.3659 - mae: 2.3659 - val_loss: 2.3920 - val_mae: 2.3920\n",
            "Epoch 9/100\n",
            "187/187 [==============================] - 2s 13ms/step - loss: 2.3564 - mae: 2.3564 - val_loss: 2.3674 - val_mae: 2.3674\n",
            "Epoch 10/100\n",
            "187/187 [==============================] - 2s 12ms/step - loss: 2.3557 - mae: 2.3557 - val_loss: 2.3469 - val_mae: 2.3469\n",
            "Epoch 11/100\n",
            "187/187 [==============================] - 2s 9ms/step - loss: 2.3486 - mae: 2.3486 - val_loss: 2.3337 - val_mae: 2.3337\n",
            "Epoch 12/100\n",
            "187/187 [==============================] - 2s 9ms/step - loss: 2.3347 - mae: 2.3347 - val_loss: 2.3541 - val_mae: 2.3541\n",
            "Epoch 13/100\n",
            "187/187 [==============================] - 2s 9ms/step - loss: 2.3380 - mae: 2.3380 - val_loss: 2.3682 - val_mae: 2.3682\n",
            "Epoch 14/100\n",
            "187/187 [==============================] - 2s 9ms/step - loss: 2.3673 - mae: 2.3673 - val_loss: 2.3431 - val_mae: 2.3431\n",
            "Epoch 15/100\n",
            "187/187 [==============================] - 2s 9ms/step - loss: 2.3318 - mae: 2.3318 - val_loss: 2.3194 - val_mae: 2.3194\n",
            "Epoch 16/100\n",
            "187/187 [==============================] - 3s 14ms/step - loss: 2.3508 - mae: 2.3508 - val_loss: 2.3225 - val_mae: 2.3225\n",
            "Epoch 17/100\n",
            "187/187 [==============================] - 2s 11ms/step - loss: 2.3417 - mae: 2.3417 - val_loss: 2.3514 - val_mae: 2.3514\n",
            "Epoch 18/100\n",
            "187/187 [==============================] - 2s 8ms/step - loss: 2.3462 - mae: 2.3462 - val_loss: 2.3191 - val_mae: 2.3191\n",
            "Epoch 19/100\n",
            "187/187 [==============================] - 2s 8ms/step - loss: 2.3255 - mae: 2.3255 - val_loss: 2.3861 - val_mae: 2.3861\n",
            "Epoch 20/100\n",
            "187/187 [==============================] - 2s 10ms/step - loss: 2.3440 - mae: 2.3440 - val_loss: 2.3482 - val_mae: 2.3482\n",
            "Epoch 21/100\n",
            "187/187 [==============================] - 2s 9ms/step - loss: 2.3345 - mae: 2.3345 - val_loss: 2.3233 - val_mae: 2.3233\n",
            "Epoch 22/100\n",
            "187/187 [==============================] - 2s 9ms/step - loss: 2.3334 - mae: 2.3334 - val_loss: 2.3084 - val_mae: 2.3084\n",
            "Epoch 23/100\n",
            "187/187 [==============================] - 3s 15ms/step - loss: 2.3262 - mae: 2.3262 - val_loss: 2.3076 - val_mae: 2.3076\n",
            "Epoch 24/100\n",
            "187/187 [==============================] - 2s 9ms/step - loss: 2.3361 - mae: 2.3361 - val_loss: 2.3459 - val_mae: 2.3459\n",
            "Epoch 25/100\n",
            "187/187 [==============================] - 2s 9ms/step - loss: 2.3375 - mae: 2.3375 - val_loss: 2.3241 - val_mae: 2.3241\n",
            "Epoch 26/100\n",
            "187/187 [==============================] - 2s 9ms/step - loss: 2.3229 - mae: 2.3229 - val_loss: 2.3046 - val_mae: 2.3046\n",
            "Epoch 27/100\n",
            "187/187 [==============================] - 2s 9ms/step - loss: 2.3151 - mae: 2.3151 - val_loss: 2.3034 - val_mae: 2.3034\n",
            "Epoch 28/100\n",
            "187/187 [==============================] - 2s 10ms/step - loss: 2.3308 - mae: 2.3308 - val_loss: 2.3110 - val_mae: 2.3110\n",
            "Epoch 29/100\n",
            "187/187 [==============================] - 2s 11ms/step - loss: 2.3203 - mae: 2.3203 - val_loss: 2.3149 - val_mae: 2.3149\n",
            "Epoch 30/100\n",
            "187/187 [==============================] - 3s 14ms/step - loss: 2.3243 - mae: 2.3243 - val_loss: 2.3061 - val_mae: 2.3061\n",
            "Epoch 31/100\n",
            "187/187 [==============================] - 2s 9ms/step - loss: 2.3378 - mae: 2.3378 - val_loss: 2.2972 - val_mae: 2.2972\n",
            "Epoch 32/100\n",
            "187/187 [==============================] - 2s 9ms/step - loss: 2.3248 - mae: 2.3248 - val_loss: 2.3220 - val_mae: 2.3220\n",
            "Epoch 33/100\n",
            "187/187 [==============================] - 2s 10ms/step - loss: 2.3121 - mae: 2.3121 - val_loss: 2.2979 - val_mae: 2.2979\n",
            "Epoch 34/100\n",
            "187/187 [==============================] - 2s 9ms/step - loss: 2.3238 - mae: 2.3238 - val_loss: 2.3590 - val_mae: 2.3590\n",
            "Epoch 35/100\n",
            "187/187 [==============================] - 2s 9ms/step - loss: 2.3162 - mae: 2.3162 - val_loss: 2.3087 - val_mae: 2.3087\n",
            "Epoch 36/100\n",
            "187/187 [==============================] - 2s 9ms/step - loss: 2.3231 - mae: 2.3231 - val_loss: 2.3045 - val_mae: 2.3045\n",
            "Epoch 37/100\n",
            "187/187 [==============================] - 3s 14ms/step - loss: 2.3183 - mae: 2.3183 - val_loss: 2.3097 - val_mae: 2.3097\n",
            "Epoch 38/100\n",
            "187/187 [==============================] - 2s 9ms/step - loss: 2.3025 - mae: 2.3025 - val_loss: 2.2966 - val_mae: 2.2966\n",
            "Epoch 39/100\n",
            "187/187 [==============================] - 2s 10ms/step - loss: 2.3220 - mae: 2.3220 - val_loss: 2.2973 - val_mae: 2.2973\n",
            "Epoch 40/100\n",
            "187/187 [==============================] - 2s 9ms/step - loss: 2.3062 - mae: 2.3062 - val_loss: 2.2858 - val_mae: 2.2858\n",
            "Epoch 41/100\n",
            "187/187 [==============================] - 2s 10ms/step - loss: 2.3085 - mae: 2.3085 - val_loss: 2.4056 - val_mae: 2.4056\n",
            "Epoch 42/100\n",
            "187/187 [==============================] - 2s 9ms/step - loss: 2.3072 - mae: 2.3072 - val_loss: 2.2907 - val_mae: 2.2907\n",
            "Epoch 43/100\n",
            "187/187 [==============================] - 2s 10ms/step - loss: 2.3131 - mae: 2.3131 - val_loss: 2.2856 - val_mae: 2.2856\n",
            "Epoch 44/100\n",
            "187/187 [==============================] - 3s 14ms/step - loss: 2.3041 - mae: 2.3041 - val_loss: 2.2901 - val_mae: 2.2901\n",
            "Epoch 45/100\n",
            "187/187 [==============================] - 2s 10ms/step - loss: 2.2917 - mae: 2.2917 - val_loss: 2.2823 - val_mae: 2.2823\n",
            "Epoch 46/100\n",
            "187/187 [==============================] - 2s 9ms/step - loss: 2.3091 - mae: 2.3091 - val_loss: 2.3140 - val_mae: 2.3140\n",
            "Epoch 47/100\n",
            "187/187 [==============================] - 2s 9ms/step - loss: 2.3116 - mae: 2.3116 - val_loss: 2.3069 - val_mae: 2.3069\n",
            "Epoch 48/100\n",
            "187/187 [==============================] - 2s 9ms/step - loss: 2.3028 - mae: 2.3028 - val_loss: 2.2764 - val_mae: 2.2764\n",
            "Epoch 49/100\n",
            "187/187 [==============================] - 2s 9ms/step - loss: 2.2934 - mae: 2.2934 - val_loss: 2.2943 - val_mae: 2.2943\n",
            "Epoch 50/100\n",
            "187/187 [==============================] - 2s 12ms/step - loss: 2.2957 - mae: 2.2957 - val_loss: 2.2703 - val_mae: 2.2703\n",
            "Epoch 51/100\n",
            "187/187 [==============================] - 3s 16ms/step - loss: 2.2919 - mae: 2.2919 - val_loss: 2.3886 - val_mae: 2.3886\n",
            "Epoch 52/100\n",
            "187/187 [==============================] - 2s 12ms/step - loss: 2.2951 - mae: 2.2951 - val_loss: 2.3135 - val_mae: 2.3135\n",
            "Epoch 53/100\n",
            "187/187 [==============================] - 2s 9ms/step - loss: 2.2943 - mae: 2.2943 - val_loss: 2.2738 - val_mae: 2.2738\n",
            "Epoch 54/100\n",
            "187/187 [==============================] - 2s 9ms/step - loss: 2.2929 - mae: 2.2929 - val_loss: 2.2924 - val_mae: 2.2924\n",
            "Epoch 55/100\n",
            "187/187 [==============================] - 2s 10ms/step - loss: 2.2989 - mae: 2.2989 - val_loss: 2.2769 - val_mae: 2.2769\n",
            "Epoch 56/100\n",
            "187/187 [==============================] - 2s 9ms/step - loss: 2.3022 - mae: 2.3022 - val_loss: 2.2857 - val_mae: 2.2857\n",
            "Epoch 57/100\n",
            "187/187 [==============================] - 2s 11ms/step - loss: 2.2919 - mae: 2.2919 - val_loss: 2.2655 - val_mae: 2.2655\n",
            "Epoch 58/100\n",
            "187/187 [==============================] - 3s 14ms/step - loss: 2.2899 - mae: 2.2899 - val_loss: 2.2809 - val_mae: 2.2809\n",
            "Epoch 59/100\n",
            "187/187 [==============================] - 2s 10ms/step - loss: 2.2897 - mae: 2.2897 - val_loss: 2.2877 - val_mae: 2.2877\n",
            "Epoch 60/100\n",
            "187/187 [==============================] - 2s 9ms/step - loss: 2.2873 - mae: 2.2873 - val_loss: 2.2688 - val_mae: 2.2688\n",
            "Epoch 61/100\n",
            "187/187 [==============================] - 2s 9ms/step - loss: 2.2851 - mae: 2.2851 - val_loss: 2.2900 - val_mae: 2.2900\n",
            "Epoch 62/100\n",
            "187/187 [==============================] - 2s 9ms/step - loss: 2.2804 - mae: 2.2804 - val_loss: 2.2820 - val_mae: 2.2820\n",
            "Epoch 63/100\n",
            "187/187 [==============================] - 2s 9ms/step - loss: 2.2859 - mae: 2.2859 - val_loss: 2.2944 - val_mae: 2.2944\n",
            "Epoch 64/100\n",
            "187/187 [==============================] - 2s 12ms/step - loss: 2.2803 - mae: 2.2803 - val_loss: 2.2941 - val_mae: 2.2941\n",
            "Epoch 65/100\n",
            "187/187 [==============================] - 2s 13ms/step - loss: 2.2849 - mae: 2.2849 - val_loss: 2.2734 - val_mae: 2.2734\n",
            "Epoch 66/100\n",
            "187/187 [==============================] - 2s 8ms/step - loss: 2.2939 - mae: 2.2939 - val_loss: 2.2971 - val_mae: 2.2971\n",
            "Epoch 67/100\n",
            "187/187 [==============================] - 2s 9ms/step - loss: 2.2903 - mae: 2.2903 - val_loss: 2.2665 - val_mae: 2.2665\n",
            "Epoch 68/100\n",
            "187/187 [==============================] - 2s 9ms/step - loss: 2.2881 - mae: 2.2881 - val_loss: 2.2587 - val_mae: 2.2587\n",
            "Epoch 69/100\n",
            "187/187 [==============================] - 2s 9ms/step - loss: 2.2793 - mae: 2.2793 - val_loss: 2.2680 - val_mae: 2.2680\n",
            "Epoch 70/100\n",
            "187/187 [==============================] - 2s 9ms/step - loss: 2.2823 - mae: 2.2823 - val_loss: 2.3363 - val_mae: 2.3363\n",
            "Epoch 71/100\n",
            "187/187 [==============================] - 2s 12ms/step - loss: 2.2935 - mae: 2.2935 - val_loss: 2.2665 - val_mae: 2.2665\n",
            "Epoch 72/100\n",
            "187/187 [==============================] - 2s 11ms/step - loss: 2.2806 - mae: 2.2806 - val_loss: 2.3253 - val_mae: 2.3253\n",
            "Epoch 73/100\n",
            "187/187 [==============================] - 2s 9ms/step - loss: 2.2812 - mae: 2.2812 - val_loss: 2.2646 - val_mae: 2.2646\n",
            "Epoch 74/100\n",
            "187/187 [==============================] - 2s 9ms/step - loss: 2.2977 - mae: 2.2977 - val_loss: 2.2774 - val_mae: 2.2774\n",
            "Epoch 75/100\n",
            "187/187 [==============================] - 2s 9ms/step - loss: 2.2839 - mae: 2.2839 - val_loss: 2.2592 - val_mae: 2.2592\n",
            "Epoch 76/100\n",
            "187/187 [==============================] - 2s 9ms/step - loss: 2.2759 - mae: 2.2759 - val_loss: 2.2740 - val_mae: 2.2740\n",
            "Epoch 77/100\n",
            "187/187 [==============================] - 2s 9ms/step - loss: 2.2814 - mae: 2.2814 - val_loss: 2.2804 - val_mae: 2.2804\n",
            "Epoch 78/100\n",
            "187/187 [==============================] - 2s 13ms/step - loss: 2.2844 - mae: 2.2844 - val_loss: 2.2739 - val_mae: 2.2739\n",
            "Epoch 79/100\n",
            "187/187 [==============================] - 2s 11ms/step - loss: 2.2817 - mae: 2.2817 - val_loss: 2.2598 - val_mae: 2.2598\n",
            "Epoch 80/100\n",
            "187/187 [==============================] - 2s 9ms/step - loss: 2.2851 - mae: 2.2851 - val_loss: 2.2626 - val_mae: 2.2626\n",
            "Epoch 81/100\n",
            "187/187 [==============================] - 2s 9ms/step - loss: 2.2744 - mae: 2.2744 - val_loss: 2.3008 - val_mae: 2.3008\n",
            "Epoch 82/100\n",
            "187/187 [==============================] - 2s 9ms/step - loss: 2.2824 - mae: 2.2824 - val_loss: 2.2586 - val_mae: 2.2586\n",
            "Epoch 83/100\n",
            "187/187 [==============================] - 2s 9ms/step - loss: 2.2983 - mae: 2.2983 - val_loss: 2.2558 - val_mae: 2.2558\n",
            "Epoch 84/100\n",
            "187/187 [==============================] - 2s 10ms/step - loss: 2.2829 - mae: 2.2829 - val_loss: 2.2703 - val_mae: 2.2703\n",
            "Epoch 85/100\n",
            "187/187 [==============================] - 3s 16ms/step - loss: 2.2739 - mae: 2.2739 - val_loss: 2.2545 - val_mae: 2.2545\n",
            "Epoch 86/100\n",
            "187/187 [==============================] - 2s 10ms/step - loss: 2.2718 - mae: 2.2718 - val_loss: 2.2605 - val_mae: 2.2605\n",
            "Epoch 87/100\n",
            "187/187 [==============================] - 2s 10ms/step - loss: 2.2773 - mae: 2.2773 - val_loss: 2.2601 - val_mae: 2.2601\n",
            "Epoch 88/100\n",
            "187/187 [==============================] - 2s 9ms/step - loss: 2.2805 - mae: 2.2805 - val_loss: 2.2717 - val_mae: 2.2717\n",
            "Epoch 89/100\n",
            "187/187 [==============================] - 2s 9ms/step - loss: 2.2781 - mae: 2.2781 - val_loss: 2.2743 - val_mae: 2.2743\n",
            "Epoch 90/100\n",
            "187/187 [==============================] - 2s 9ms/step - loss: 2.2821 - mae: 2.2821 - val_loss: 2.2709 - val_mae: 2.2709\n",
            "Epoch 91/100\n",
            "187/187 [==============================] - 2s 10ms/step - loss: 2.2767 - mae: 2.2767 - val_loss: 2.2690 - val_mae: 2.2690\n",
            "Epoch 92/100\n",
            "187/187 [==============================] - 3s 15ms/step - loss: 2.2745 - mae: 2.2745 - val_loss: 2.2552 - val_mae: 2.2552\n",
            "Epoch 93/100\n",
            "187/187 [==============================] - 2s 9ms/step - loss: 2.2770 - mae: 2.2770 - val_loss: 2.3065 - val_mae: 2.3065\n",
            "Epoch 94/100\n",
            "187/187 [==============================] - 2s 9ms/step - loss: 2.2808 - mae: 2.2808 - val_loss: 2.2848 - val_mae: 2.2848\n",
            "Epoch 95/100\n",
            "187/187 [==============================] - 2s 9ms/step - loss: 2.2725 - mae: 2.2725 - val_loss: 2.2574 - val_mae: 2.2574\n",
            "Epoch 96/100\n",
            "187/187 [==============================] - 2s 9ms/step - loss: 2.2792 - mae: 2.2792 - val_loss: 2.2665 - val_mae: 2.2665\n",
            "Epoch 97/100\n",
            "187/187 [==============================] - 2s 10ms/step - loss: 2.2768 - mae: 2.2768 - val_loss: 2.2563 - val_mae: 2.2563\n",
            "Epoch 98/100\n",
            "187/187 [==============================] - 2s 11ms/step - loss: 2.2809 - mae: 2.2809 - val_loss: 2.2661 - val_mae: 2.2661\n",
            "Epoch 99/100\n",
            "187/187 [==============================] - 3s 13ms/step - loss: 2.2757 - mae: 2.2757 - val_loss: 2.2872 - val_mae: 2.2872\n",
            "Epoch 100/100\n",
            "187/187 [==============================] - 2s 9ms/step - loss: 2.2712 - mae: 2.2712 - val_loss: 2.2662 - val_mae: 2.2662\n"
          ]
        }
      ]
    },
    {
      "cell_type": "code",
      "source": [
        "%matplotlib inline\n",
        "import matplotlib.pyplot as plt\n",
        "import seaborn as sns\n",
        "sns.set()\n",
        "\n",
        "err = hist.history['mae']\n",
        "val_err = hist.history['val_mae']\n",
        "epochs = range(1, len(err) + 1)\n",
        "\n",
        "plt.plot(epochs, err, '-', label='Training MAE')\n",
        "plt.plot(epochs, val_err, ':', label='Validation MAE')\n",
        "plt.title('Training and Validation Accuracy')\n",
        "plt.xlabel('Epoch')\n",
        "plt.ylabel('Mean Absolute Error')\n",
        "plt.legend(loc='upper right')\n",
        "plt.plot()"
      ],
      "metadata": {
        "colab": {
          "base_uri": "https://localhost:8080/",
          "height": 497
        },
        "id": "EZ1v7GTlkArE",
        "outputId": "bb9e65e9-80bf-4b2a-b242-477d7fd9cf2a"
      },
      "execution_count": 9,
      "outputs": [
        {
          "output_type": "execute_result",
          "data": {
            "text/plain": [
              "[]"
            ]
          },
          "metadata": {},
          "execution_count": 9
        },
        {
          "output_type": "display_data",
          "data": {
            "text/plain": [
              "<Figure size 640x480 with 1 Axes>"
            ],
            "image/png": "[encoded data removed]"
          },
          "metadata": {}
        }
      ]
    },
    {
      "cell_type": "code",
      "source": [
        "from sklearn.metrics import r2_score\n",
        "\n",
        "r2_score(y, model.predict(x))"
      ],
      "metadata": {
        "colab": {
          "base_uri": "https://localhost:8080/"
        },
        "id": "y1Fm-vvtlHGB",
        "outputId": "75bd3956-420e-4532-9f62-db6359c9c713"
      },
      "execution_count": 10,
      "outputs": [
        {
          "output_type": "stream",
          "name": "stdout",
          "text": [
            "729/729 [==============================] - 4s 5ms/step\n"
          ]
        },
        {
          "output_type": "execute_result",
          "data": {
            "text/plain": [
              "0.7449175360907118"
            ]
          },
          "metadata": {},
          "execution_count": 10
        }
      ]
    },
    {
      "cell_type": "markdown",
      "source": [
        "### what it will cost to hire a taxi for a 2-mile trip at 5:00 p.m. on Friday"
      ],
      "metadata": {
        "id": "jA7qDpdbllM1"
      }
    },
    {
      "cell_type": "code",
      "source": [
        "import numpy as np\n",
        "\n",
        "model.predict(np.array([[4, 17, 2.0]]))"
      ],
      "metadata": {
        "colab": {
          "base_uri": "https://localhost:8080/"
        },
        "id": "Y7hz5IP9lSxw",
        "outputId": "cc3a0eda-cacf-45cf-bba4-9cfaa2f75cc1"
      },
      "execution_count": 11,
      "outputs": [
        {
          "output_type": "stream",
          "name": "stdout",
          "text": [
            "1/1 [==============================] - 0s 379ms/step\n"
          ]
        },
        {
          "output_type": "execute_result",
          "data": {
            "text/plain": [
              "array([[10.761321]], dtype=float32)"
            ]
          },
          "metadata": {},
          "execution_count": 11
        }
      ]
    },
    {
      "cell_type": "markdown",
      "source": [
        "### predict the fare amount for a 2-mile trip taken at 5:00 p.m. one day later (on Saturday)"
      ],
      "metadata": {
        "id": "qAH8wqrVlnpp"
      }
    },
    {
      "cell_type": "code",
      "source": [
        "model.predict(np.array([[5, 17, 2.0]]))"
      ],
      "metadata": {
        "colab": {
          "base_uri": "https://localhost:8080/"
        },
        "id": "Zp3L7ThqlZzH",
        "outputId": "b1ec4b0f-fc28-4b3b-b40b-ec4b0495b7b2"
      },
      "execution_count": 12,
      "outputs": [
        {
          "output_type": "stream",
          "name": "stdout",
          "text": [
            "1/1 [==============================] - 0s 25ms/step\n"
          ]
        },
        {
          "output_type": "execute_result",
          "data": {
            "text/plain": [
              "array([[10.574879]], dtype=float32)"
            ]
          },
          "metadata": {},
          "execution_count": 12
        }
      ]
    },
    {
      "cell_type": "code",
      "source": [],
      "metadata": {
        "id": "F4Mzk6RAlgmg"
      },
      "execution_count": null,
      "outputs": []
    }
  ]
}