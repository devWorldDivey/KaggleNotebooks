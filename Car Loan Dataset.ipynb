{
 "cells": [
  {
   "cell_type": "code",
   "execution_count": 64,
   "id": "ed4f805f",
   "metadata": {},
   "outputs": [
    {
     "ename": "ModuleNotFoundError",
     "evalue": "No module named 'sklearn'",
     "output_type": "error",
     "traceback": [
      "\u001b[1;31m---------------------------------------------------------------------------\u001b[0m",
      "\u001b[1;31mModuleNotFoundError\u001b[0m                       Traceback (most recent call last)",
      "Cell \u001b[1;32mIn[64], line 5\u001b[0m\n\u001b[0;32m      3\u001b[0m \u001b[38;5;28;01mimport\u001b[39;00m \u001b[38;5;21;01mmatplotlib\u001b[39;00m\u001b[38;5;21;01m.\u001b[39;00m\u001b[38;5;21;01mpyplot\u001b[39;00m \u001b[38;5;28;01mas\u001b[39;00m \u001b[38;5;21;01mplt\u001b[39;00m \n\u001b[0;32m      4\u001b[0m \u001b[38;5;28;01mimport\u001b[39;00m \u001b[38;5;21;01mseaborn\u001b[39;00m \u001b[38;5;28;01mas\u001b[39;00m \u001b[38;5;21;01msns\u001b[39;00m\n\u001b[1;32m----> 5\u001b[0m \u001b[38;5;28;01mimport\u001b[39;00m \u001b[38;5;21;01msklearn\u001b[39;00m\n\u001b[0;32m      6\u001b[0m \u001b[38;5;28;01mimport\u001b[39;00m \u001b[38;5;21;01mmissingno\u001b[39;00m \u001b[38;5;28;01mas\u001b[39;00m \u001b[38;5;21;01mmso\u001b[39;00m\n\u001b[0;32m      7\u001b[0m \u001b[38;5;28;01mimport\u001b[39;00m \u001b[38;5;21;01mwarnings\u001b[39;00m\n",
      "\u001b[1;31mModuleNotFoundError\u001b[0m: No module named 'sklearn'"
     ]
    }
   ],
   "source": [
    "import pandas as pd \n",
    "import numpy as np \n",
    "import matplotlib.pyplot as plt \n",
    "import seaborn as sns\n",
    "import sklearn\n",
    "import missingno as mso\n",
    "import warnings\n",
    "warnings.filterwarnings('ignore')"
   ]
  },
  {
   "cell_type": "code",
   "execution_count": 2,
   "id": "542cffc0",
   "metadata": {},
   "outputs": [],
   "source": [
    "train = pd.read_csv(\"loan_train.csv\")\n",
    "test = pd.read_csv(\"loan_test.csv\")"
   ]
  },
  {
   "cell_type": "code",
   "execution_count": 3,
   "id": "540da91c",
   "metadata": {},
   "outputs": [
    {
     "data": {
      "text/html": [
       "<div>\n",
       "<style scoped>\n",
       "    .dataframe tbody tr th:only-of-type {\n",
       "        vertical-align: middle;\n",
       "    }\n",
       "\n",
       "    .dataframe tbody tr th {\n",
       "        vertical-align: top;\n",
       "    }\n",
       "\n",
       "    .dataframe thead th {\n",
       "        text-align: right;\n",
       "    }\n",
       "</style>\n",
       "<table border=\"1\" class=\"dataframe\">\n",
       "  <thead>\n",
       "    <tr style=\"text-align: right;\">\n",
       "      <th></th>\n",
       "      <th>Gender</th>\n",
       "      <th>Married</th>\n",
       "      <th>Dependents</th>\n",
       "      <th>Education</th>\n",
       "      <th>Self_Employed</th>\n",
       "      <th>Applicant_Income</th>\n",
       "      <th>Coapplicant_Income</th>\n",
       "      <th>Loan_Amount</th>\n",
       "      <th>Term</th>\n",
       "      <th>Credit_History</th>\n",
       "      <th>Area</th>\n",
       "      <th>Status</th>\n",
       "    </tr>\n",
       "  </thead>\n",
       "  <tbody>\n",
       "    <tr>\n",
       "      <th>0</th>\n",
       "      <td>Male</td>\n",
       "      <td>No</td>\n",
       "      <td>0</td>\n",
       "      <td>Graduate</td>\n",
       "      <td>No</td>\n",
       "      <td>584900</td>\n",
       "      <td>0.0</td>\n",
       "      <td>15000000</td>\n",
       "      <td>360.0</td>\n",
       "      <td>1.0</td>\n",
       "      <td>Urban</td>\n",
       "      <td>Y</td>\n",
       "    </tr>\n",
       "    <tr>\n",
       "      <th>1</th>\n",
       "      <td>Male</td>\n",
       "      <td>Yes</td>\n",
       "      <td>1</td>\n",
       "      <td>Graduate</td>\n",
       "      <td>No</td>\n",
       "      <td>458300</td>\n",
       "      <td>150800.0</td>\n",
       "      <td>12800000</td>\n",
       "      <td>360.0</td>\n",
       "      <td>1.0</td>\n",
       "      <td>Rural</td>\n",
       "      <td>N</td>\n",
       "    </tr>\n",
       "    <tr>\n",
       "      <th>2</th>\n",
       "      <td>Male</td>\n",
       "      <td>Yes</td>\n",
       "      <td>0</td>\n",
       "      <td>Graduate</td>\n",
       "      <td>Yes</td>\n",
       "      <td>300000</td>\n",
       "      <td>0.0</td>\n",
       "      <td>6600000</td>\n",
       "      <td>360.0</td>\n",
       "      <td>1.0</td>\n",
       "      <td>Urban</td>\n",
       "      <td>Y</td>\n",
       "    </tr>\n",
       "    <tr>\n",
       "      <th>3</th>\n",
       "      <td>Male</td>\n",
       "      <td>Yes</td>\n",
       "      <td>0</td>\n",
       "      <td>Not Graduate</td>\n",
       "      <td>No</td>\n",
       "      <td>258300</td>\n",
       "      <td>235800.0</td>\n",
       "      <td>12000000</td>\n",
       "      <td>360.0</td>\n",
       "      <td>1.0</td>\n",
       "      <td>Urban</td>\n",
       "      <td>Y</td>\n",
       "    </tr>\n",
       "    <tr>\n",
       "      <th>4</th>\n",
       "      <td>Male</td>\n",
       "      <td>No</td>\n",
       "      <td>0</td>\n",
       "      <td>Graduate</td>\n",
       "      <td>No</td>\n",
       "      <td>600000</td>\n",
       "      <td>0.0</td>\n",
       "      <td>14100000</td>\n",
       "      <td>360.0</td>\n",
       "      <td>1.0</td>\n",
       "      <td>Urban</td>\n",
       "      <td>Y</td>\n",
       "    </tr>\n",
       "  </tbody>\n",
       "</table>\n",
       "</div>"
      ],
      "text/plain": [
       "  Gender Married Dependents     Education Self_Employed  Applicant_Income  \\\n",
       "0   Male      No          0      Graduate            No            584900   \n",
       "1   Male     Yes          1      Graduate            No            458300   \n",
       "2   Male     Yes          0      Graduate           Yes            300000   \n",
       "3   Male     Yes          0  Not Graduate            No            258300   \n",
       "4   Male      No          0      Graduate            No            600000   \n",
       "\n",
       "   Coapplicant_Income  Loan_Amount   Term  Credit_History   Area Status  \n",
       "0                 0.0     15000000  360.0             1.0  Urban      Y  \n",
       "1            150800.0     12800000  360.0             1.0  Rural      N  \n",
       "2                 0.0      6600000  360.0             1.0  Urban      Y  \n",
       "3            235800.0     12000000  360.0             1.0  Urban      Y  \n",
       "4                 0.0     14100000  360.0             1.0  Urban      Y  "
      ]
     },
     "execution_count": 3,
     "metadata": {},
     "output_type": "execute_result"
    }
   ],
   "source": [
    "train.head()"
   ]
  },
  {
   "cell_type": "code",
   "execution_count": 4,
   "id": "4d9dc7c0",
   "metadata": {},
   "outputs": [
    {
     "data": {
      "text/html": [
       "<div>\n",
       "<style scoped>\n",
       "    .dataframe tbody tr th:only-of-type {\n",
       "        vertical-align: middle;\n",
       "    }\n",
       "\n",
       "    .dataframe tbody tr th {\n",
       "        vertical-align: top;\n",
       "    }\n",
       "\n",
       "    .dataframe thead th {\n",
       "        text-align: right;\n",
       "    }\n",
       "</style>\n",
       "<table border=\"1\" class=\"dataframe\">\n",
       "  <thead>\n",
       "    <tr style=\"text-align: right;\">\n",
       "      <th></th>\n",
       "      <th>Gender</th>\n",
       "      <th>Married</th>\n",
       "      <th>Dependents</th>\n",
       "      <th>Education</th>\n",
       "      <th>Self_Employed</th>\n",
       "      <th>Applicant_Income</th>\n",
       "      <th>Coapplicant_Income</th>\n",
       "      <th>Loan_Amount</th>\n",
       "      <th>Term</th>\n",
       "      <th>Credit_History</th>\n",
       "      <th>Area</th>\n",
       "    </tr>\n",
       "  </thead>\n",
       "  <tbody>\n",
       "    <tr>\n",
       "      <th>0</th>\n",
       "      <td>Male</td>\n",
       "      <td>Yes</td>\n",
       "      <td>0</td>\n",
       "      <td>Graduate</td>\n",
       "      <td>No</td>\n",
       "      <td>572000</td>\n",
       "      <td>0</td>\n",
       "      <td>11000000</td>\n",
       "      <td>360.0</td>\n",
       "      <td>1.0</td>\n",
       "      <td>Urban</td>\n",
       "    </tr>\n",
       "    <tr>\n",
       "      <th>1</th>\n",
       "      <td>Male</td>\n",
       "      <td>Yes</td>\n",
       "      <td>1</td>\n",
       "      <td>Graduate</td>\n",
       "      <td>No</td>\n",
       "      <td>307600</td>\n",
       "      <td>150000</td>\n",
       "      <td>12600000</td>\n",
       "      <td>360.0</td>\n",
       "      <td>1.0</td>\n",
       "      <td>Urban</td>\n",
       "    </tr>\n",
       "    <tr>\n",
       "      <th>2</th>\n",
       "      <td>Male</td>\n",
       "      <td>Yes</td>\n",
       "      <td>2</td>\n",
       "      <td>Graduate</td>\n",
       "      <td>No</td>\n",
       "      <td>500000</td>\n",
       "      <td>180000</td>\n",
       "      <td>20800000</td>\n",
       "      <td>360.0</td>\n",
       "      <td>1.0</td>\n",
       "      <td>Urban</td>\n",
       "    </tr>\n",
       "    <tr>\n",
       "      <th>3</th>\n",
       "      <td>Male</td>\n",
       "      <td>Yes</td>\n",
       "      <td>2</td>\n",
       "      <td>Graduate</td>\n",
       "      <td>No</td>\n",
       "      <td>234000</td>\n",
       "      <td>254600</td>\n",
       "      <td>10000000</td>\n",
       "      <td>360.0</td>\n",
       "      <td>NaN</td>\n",
       "      <td>Urban</td>\n",
       "    </tr>\n",
       "    <tr>\n",
       "      <th>4</th>\n",
       "      <td>Male</td>\n",
       "      <td>No</td>\n",
       "      <td>0</td>\n",
       "      <td>Not Graduate</td>\n",
       "      <td>No</td>\n",
       "      <td>327600</td>\n",
       "      <td>0</td>\n",
       "      <td>7800000</td>\n",
       "      <td>360.0</td>\n",
       "      <td>1.0</td>\n",
       "      <td>Urban</td>\n",
       "    </tr>\n",
       "  </tbody>\n",
       "</table>\n",
       "</div>"
      ],
      "text/plain": [
       "  Gender Married Dependents     Education Self_Employed  Applicant_Income  \\\n",
       "0   Male     Yes          0      Graduate            No            572000   \n",
       "1   Male     Yes          1      Graduate            No            307600   \n",
       "2   Male     Yes          2      Graduate            No            500000   \n",
       "3   Male     Yes          2      Graduate            No            234000   \n",
       "4   Male      No          0  Not Graduate            No            327600   \n",
       "\n",
       "   Coapplicant_Income  Loan_Amount   Term  Credit_History   Area  \n",
       "0                   0     11000000  360.0             1.0  Urban  \n",
       "1              150000     12600000  360.0             1.0  Urban  \n",
       "2              180000     20800000  360.0             1.0  Urban  \n",
       "3              254600     10000000  360.0             NaN  Urban  \n",
       "4                   0      7800000  360.0             1.0  Urban  "
      ]
     },
     "execution_count": 4,
     "metadata": {},
     "output_type": "execute_result"
    }
   ],
   "source": [
    "test.head()"
   ]
  },
  {
   "cell_type": "code",
   "execution_count": 5,
   "id": "79a8af48",
   "metadata": {},
   "outputs": [
    {
     "data": {
      "text/html": [
       "<div>\n",
       "<style scoped>\n",
       "    .dataframe tbody tr th:only-of-type {\n",
       "        vertical-align: middle;\n",
       "    }\n",
       "\n",
       "    .dataframe tbody tr th {\n",
       "        vertical-align: top;\n",
       "    }\n",
       "\n",
       "    .dataframe thead th {\n",
       "        text-align: right;\n",
       "    }\n",
       "</style>\n",
       "<table border=\"1\" class=\"dataframe\">\n",
       "  <thead>\n",
       "    <tr style=\"text-align: right;\">\n",
       "      <th></th>\n",
       "      <th>Gender</th>\n",
       "      <th>Married</th>\n",
       "      <th>Dependents</th>\n",
       "      <th>Education</th>\n",
       "      <th>Self_Employed</th>\n",
       "      <th>Applicant_Income</th>\n",
       "      <th>Coapplicant_Income</th>\n",
       "      <th>Loan_Amount</th>\n",
       "      <th>Term</th>\n",
       "      <th>Credit_History</th>\n",
       "      <th>Area</th>\n",
       "      <th>Status</th>\n",
       "    </tr>\n",
       "  </thead>\n",
       "  <tbody>\n",
       "    <tr>\n",
       "      <th>609</th>\n",
       "      <td>Female</td>\n",
       "      <td>No</td>\n",
       "      <td>0</td>\n",
       "      <td>Graduate</td>\n",
       "      <td>No</td>\n",
       "      <td>290000</td>\n",
       "      <td>0.0</td>\n",
       "      <td>7100000</td>\n",
       "      <td>360.0</td>\n",
       "      <td>1.0</td>\n",
       "      <td>Rural</td>\n",
       "      <td>Y</td>\n",
       "    </tr>\n",
       "    <tr>\n",
       "      <th>610</th>\n",
       "      <td>Male</td>\n",
       "      <td>Yes</td>\n",
       "      <td>3+</td>\n",
       "      <td>Graduate</td>\n",
       "      <td>No</td>\n",
       "      <td>410600</td>\n",
       "      <td>0.0</td>\n",
       "      <td>4000000</td>\n",
       "      <td>180.0</td>\n",
       "      <td>1.0</td>\n",
       "      <td>Rural</td>\n",
       "      <td>Y</td>\n",
       "    </tr>\n",
       "    <tr>\n",
       "      <th>611</th>\n",
       "      <td>Male</td>\n",
       "      <td>Yes</td>\n",
       "      <td>1</td>\n",
       "      <td>Graduate</td>\n",
       "      <td>No</td>\n",
       "      <td>807200</td>\n",
       "      <td>24000.0</td>\n",
       "      <td>25300000</td>\n",
       "      <td>360.0</td>\n",
       "      <td>1.0</td>\n",
       "      <td>Urban</td>\n",
       "      <td>Y</td>\n",
       "    </tr>\n",
       "    <tr>\n",
       "      <th>612</th>\n",
       "      <td>Male</td>\n",
       "      <td>Yes</td>\n",
       "      <td>2</td>\n",
       "      <td>Graduate</td>\n",
       "      <td>No</td>\n",
       "      <td>758300</td>\n",
       "      <td>0.0</td>\n",
       "      <td>18700000</td>\n",
       "      <td>360.0</td>\n",
       "      <td>1.0</td>\n",
       "      <td>Urban</td>\n",
       "      <td>Y</td>\n",
       "    </tr>\n",
       "    <tr>\n",
       "      <th>613</th>\n",
       "      <td>Female</td>\n",
       "      <td>No</td>\n",
       "      <td>0</td>\n",
       "      <td>Graduate</td>\n",
       "      <td>Yes</td>\n",
       "      <td>458300</td>\n",
       "      <td>0.0</td>\n",
       "      <td>13300000</td>\n",
       "      <td>360.0</td>\n",
       "      <td>0.0</td>\n",
       "      <td>Semiurban</td>\n",
       "      <td>N</td>\n",
       "    </tr>\n",
       "  </tbody>\n",
       "</table>\n",
       "</div>"
      ],
      "text/plain": [
       "     Gender Married Dependents Education Self_Employed  Applicant_Income  \\\n",
       "609  Female      No          0  Graduate            No            290000   \n",
       "610    Male     Yes         3+  Graduate            No            410600   \n",
       "611    Male     Yes          1  Graduate            No            807200   \n",
       "612    Male     Yes          2  Graduate            No            758300   \n",
       "613  Female      No          0  Graduate           Yes            458300   \n",
       "\n",
       "     Coapplicant_Income  Loan_Amount   Term  Credit_History       Area Status  \n",
       "609                 0.0      7100000  360.0             1.0      Rural      Y  \n",
       "610                 0.0      4000000  180.0             1.0      Rural      Y  \n",
       "611             24000.0     25300000  360.0             1.0      Urban      Y  \n",
       "612                 0.0     18700000  360.0             1.0      Urban      Y  \n",
       "613                 0.0     13300000  360.0             0.0  Semiurban      N  "
      ]
     },
     "execution_count": 5,
     "metadata": {},
     "output_type": "execute_result"
    }
   ],
   "source": [
    "train.tail()"
   ]
  },
  {
   "cell_type": "markdown",
   "id": "e3d1ef9a",
   "metadata": {},
   "source": [
    "# Find shape of our dataset(Number of rows and number of columns)"
   ]
  },
  {
   "cell_type": "code",
   "execution_count": 6,
   "id": "93e7294e",
   "metadata": {},
   "outputs": [
    {
     "name": "stdout",
     "output_type": "stream",
     "text": [
      "Number of rows in train dataset 614\n",
      "Number of columns train dataset 12\n",
      "Number of rows in test dataset 367\n",
      "Number of columns in test dataset 11\n"
     ]
    }
   ],
   "source": [
    "print(\"Number of rows in train dataset\", train.shape[0])\n",
    "print(\"Number of columns train dataset\", train.shape[1])\n",
    "print(\"Number of rows in test dataset\", test.shape[0])\n",
    "print(\"Number of columns in test dataset\", test.shape[1])"
   ]
  },
  {
   "cell_type": "markdown",
   "id": "0599d1d5",
   "metadata": {},
   "source": [
    "# All Information about our dataset"
   ]
  },
  {
   "cell_type": "code",
   "execution_count": 9,
   "id": "e3b794e5",
   "metadata": {},
   "outputs": [
    {
     "data": {
      "text/html": [
       "<div>\n",
       "<style scoped>\n",
       "    .dataframe tbody tr th:only-of-type {\n",
       "        vertical-align: middle;\n",
       "    }\n",
       "\n",
       "    .dataframe tbody tr th {\n",
       "        vertical-align: top;\n",
       "    }\n",
       "\n",
       "    .dataframe thead th {\n",
       "        text-align: right;\n",
       "    }\n",
       "</style>\n",
       "<table border=\"1\" class=\"dataframe\">\n",
       "  <thead>\n",
       "    <tr style=\"text-align: right;\">\n",
       "      <th></th>\n",
       "      <th>Applicant_Income</th>\n",
       "      <th>Coapplicant_Income</th>\n",
       "      <th>Loan_Amount</th>\n",
       "      <th>Term</th>\n",
       "      <th>Credit_History</th>\n",
       "    </tr>\n",
       "  </thead>\n",
       "  <tbody>\n",
       "    <tr>\n",
       "      <th>count</th>\n",
       "      <td>6.140000e+02</td>\n",
       "      <td>6.140000e+02</td>\n",
       "      <td>6.140000e+02</td>\n",
       "      <td>600.00000</td>\n",
       "      <td>564.000000</td>\n",
       "    </tr>\n",
       "    <tr>\n",
       "      <th>mean</th>\n",
       "      <td>5.403459e+05</td>\n",
       "      <td>1.621246e+05</td>\n",
       "      <td>1.414104e+07</td>\n",
       "      <td>342.00000</td>\n",
       "      <td>0.842199</td>\n",
       "    </tr>\n",
       "    <tr>\n",
       "      <th>std</th>\n",
       "      <td>6.109042e+05</td>\n",
       "      <td>2.926248e+05</td>\n",
       "      <td>8.815682e+06</td>\n",
       "      <td>65.12041</td>\n",
       "      <td>0.364878</td>\n",
       "    </tr>\n",
       "    <tr>\n",
       "      <th>min</th>\n",
       "      <td>1.500000e+04</td>\n",
       "      <td>0.000000e+00</td>\n",
       "      <td>0.000000e+00</td>\n",
       "      <td>12.00000</td>\n",
       "      <td>0.000000</td>\n",
       "    </tr>\n",
       "    <tr>\n",
       "      <th>25%</th>\n",
       "      <td>2.877500e+05</td>\n",
       "      <td>0.000000e+00</td>\n",
       "      <td>9.800000e+06</td>\n",
       "      <td>360.00000</td>\n",
       "      <td>1.000000</td>\n",
       "    </tr>\n",
       "    <tr>\n",
       "      <th>50%</th>\n",
       "      <td>3.812500e+05</td>\n",
       "      <td>1.188500e+05</td>\n",
       "      <td>1.250000e+07</td>\n",
       "      <td>360.00000</td>\n",
       "      <td>1.000000</td>\n",
       "    </tr>\n",
       "    <tr>\n",
       "      <th>75%</th>\n",
       "      <td>5.795000e+05</td>\n",
       "      <td>2.297250e+05</td>\n",
       "      <td>1.647500e+07</td>\n",
       "      <td>360.00000</td>\n",
       "      <td>1.000000</td>\n",
       "    </tr>\n",
       "    <tr>\n",
       "      <th>max</th>\n",
       "      <td>8.100000e+06</td>\n",
       "      <td>4.166700e+06</td>\n",
       "      <td>7.000000e+07</td>\n",
       "      <td>480.00000</td>\n",
       "      <td>1.000000</td>\n",
       "    </tr>\n",
       "  </tbody>\n",
       "</table>\n",
       "</div>"
      ],
      "text/plain": [
       "       Applicant_Income  Coapplicant_Income   Loan_Amount       Term  \\\n",
       "count      6.140000e+02        6.140000e+02  6.140000e+02  600.00000   \n",
       "mean       5.403459e+05        1.621246e+05  1.414104e+07  342.00000   \n",
       "std        6.109042e+05        2.926248e+05  8.815682e+06   65.12041   \n",
       "min        1.500000e+04        0.000000e+00  0.000000e+00   12.00000   \n",
       "25%        2.877500e+05        0.000000e+00  9.800000e+06  360.00000   \n",
       "50%        3.812500e+05        1.188500e+05  1.250000e+07  360.00000   \n",
       "75%        5.795000e+05        2.297250e+05  1.647500e+07  360.00000   \n",
       "max        8.100000e+06        4.166700e+06  7.000000e+07  480.00000   \n",
       "\n",
       "       Credit_History  \n",
       "count      564.000000  \n",
       "mean         0.842199  \n",
       "std          0.364878  \n",
       "min          0.000000  \n",
       "25%          1.000000  \n",
       "50%          1.000000  \n",
       "75%          1.000000  \n",
       "max          1.000000  "
      ]
     },
     "execution_count": 9,
     "metadata": {},
     "output_type": "execute_result"
    }
   ],
   "source": [
    "train.describe()"
   ]
  },
  {
   "cell_type": "code",
   "execution_count": 12,
   "id": "0d65054c",
   "metadata": {},
   "outputs": [
    {
     "data": {
      "text/html": [
       "<div>\n",
       "<style scoped>\n",
       "    .dataframe tbody tr th:only-of-type {\n",
       "        vertical-align: middle;\n",
       "    }\n",
       "\n",
       "    .dataframe tbody tr th {\n",
       "        vertical-align: top;\n",
       "    }\n",
       "\n",
       "    .dataframe thead th {\n",
       "        text-align: right;\n",
       "    }\n",
       "</style>\n",
       "<table border=\"1\" class=\"dataframe\">\n",
       "  <thead>\n",
       "    <tr style=\"text-align: right;\">\n",
       "      <th></th>\n",
       "      <th>Applicant_Income</th>\n",
       "      <th>Coapplicant_Income</th>\n",
       "      <th>Loan_Amount</th>\n",
       "      <th>Term</th>\n",
       "      <th>Credit_History</th>\n",
       "    </tr>\n",
       "  </thead>\n",
       "  <tbody>\n",
       "    <tr>\n",
       "      <th>count</th>\n",
       "      <td>3.670000e+02</td>\n",
       "      <td>3.670000e+02</td>\n",
       "      <td>3.670000e+02</td>\n",
       "      <td>361.000000</td>\n",
       "      <td>338.000000</td>\n",
       "    </tr>\n",
       "    <tr>\n",
       "      <th>mean</th>\n",
       "      <td>4.805599e+05</td>\n",
       "      <td>1.569578e+05</td>\n",
       "      <td>1.342779e+07</td>\n",
       "      <td>342.537396</td>\n",
       "      <td>0.825444</td>\n",
       "    </tr>\n",
       "    <tr>\n",
       "      <th>std</th>\n",
       "      <td>4.910685e+05</td>\n",
       "      <td>2.334232e+05</td>\n",
       "      <td>6.296143e+06</td>\n",
       "      <td>65.156643</td>\n",
       "      <td>0.380150</td>\n",
       "    </tr>\n",
       "    <tr>\n",
       "      <th>min</th>\n",
       "      <td>0.000000e+00</td>\n",
       "      <td>0.000000e+00</td>\n",
       "      <td>0.000000e+00</td>\n",
       "      <td>6.000000</td>\n",
       "      <td>0.000000</td>\n",
       "    </tr>\n",
       "    <tr>\n",
       "      <th>25%</th>\n",
       "      <td>2.864000e+05</td>\n",
       "      <td>0.000000e+00</td>\n",
       "      <td>1.000000e+07</td>\n",
       "      <td>360.000000</td>\n",
       "      <td>1.000000</td>\n",
       "    </tr>\n",
       "    <tr>\n",
       "      <th>50%</th>\n",
       "      <td>3.786000e+05</td>\n",
       "      <td>1.025000e+05</td>\n",
       "      <td>1.250000e+07</td>\n",
       "      <td>360.000000</td>\n",
       "      <td>1.000000</td>\n",
       "    </tr>\n",
       "    <tr>\n",
       "      <th>75%</th>\n",
       "      <td>5.060000e+05</td>\n",
       "      <td>2.430500e+05</td>\n",
       "      <td>1.575000e+07</td>\n",
       "      <td>360.000000</td>\n",
       "      <td>1.000000</td>\n",
       "    </tr>\n",
       "    <tr>\n",
       "      <th>max</th>\n",
       "      <td>7.252900e+06</td>\n",
       "      <td>2.400000e+06</td>\n",
       "      <td>5.500000e+07</td>\n",
       "      <td>480.000000</td>\n",
       "      <td>1.000000</td>\n",
       "    </tr>\n",
       "  </tbody>\n",
       "</table>\n",
       "</div>"
      ],
      "text/plain": [
       "       Applicant_Income  Coapplicant_Income   Loan_Amount        Term  \\\n",
       "count      3.670000e+02        3.670000e+02  3.670000e+02  361.000000   \n",
       "mean       4.805599e+05        1.569578e+05  1.342779e+07  342.537396   \n",
       "std        4.910685e+05        2.334232e+05  6.296143e+06   65.156643   \n",
       "min        0.000000e+00        0.000000e+00  0.000000e+00    6.000000   \n",
       "25%        2.864000e+05        0.000000e+00  1.000000e+07  360.000000   \n",
       "50%        3.786000e+05        1.025000e+05  1.250000e+07  360.000000   \n",
       "75%        5.060000e+05        2.430500e+05  1.575000e+07  360.000000   \n",
       "max        7.252900e+06        2.400000e+06  5.500000e+07  480.000000   \n",
       "\n",
       "       Credit_History  \n",
       "count      338.000000  \n",
       "mean         0.825444  \n",
       "std          0.380150  \n",
       "min          0.000000  \n",
       "25%          1.000000  \n",
       "50%          1.000000  \n",
       "75%          1.000000  \n",
       "max          1.000000  "
      ]
     },
     "execution_count": 12,
     "metadata": {},
     "output_type": "execute_result"
    }
   ],
   "source": [
    "test.describe()"
   ]
  },
  {
   "cell_type": "code",
   "execution_count": 17,
   "id": "75a31071",
   "metadata": {},
   "outputs": [
    {
     "data": {
      "text/plain": [
       "Gender                13\n",
       "Married                3\n",
       "Dependents            15\n",
       "Education              0\n",
       "Self_Employed         32\n",
       "Applicant_Income       0\n",
       "Coapplicant_Income     0\n",
       "Loan_Amount            0\n",
       "Term                  14\n",
       "Credit_History        50\n",
       "Area                   0\n",
       "Status                 0\n",
       "dtype: int64"
      ]
     },
     "execution_count": 17,
     "metadata": {},
     "output_type": "execute_result"
    }
   ],
   "source": [
    "train.isnull().sum()"
   ]
  },
  {
   "cell_type": "code",
   "execution_count": 16,
   "id": "7d572643",
   "metadata": {},
   "outputs": [
    {
     "data": {
      "text/plain": [
       "Gender                11\n",
       "Married                0\n",
       "Dependents            10\n",
       "Education              0\n",
       "Self_Employed         23\n",
       "Applicant_Income       0\n",
       "Coapplicant_Income     0\n",
       "Loan_Amount            0\n",
       "Term                   6\n",
       "Credit_History        29\n",
       "Area                   0\n",
       "dtype: int64"
      ]
     },
     "execution_count": 16,
     "metadata": {},
     "output_type": "execute_result"
    }
   ],
   "source": [
    "test.isnull().sum()"
   ]
  },
  {
   "cell_type": "code",
   "execution_count": 18,
   "id": "3fd2382d",
   "metadata": {},
   "outputs": [
    {
     "data": {
      "text/plain": [
       "Gender                2.117264\n",
       "Married               0.488599\n",
       "Dependents            2.442997\n",
       "Education             0.000000\n",
       "Self_Employed         5.211726\n",
       "Applicant_Income      0.000000\n",
       "Coapplicant_Income    0.000000\n",
       "Loan_Amount           0.000000\n",
       "Term                  2.280130\n",
       "Credit_History        8.143322\n",
       "Area                  0.000000\n",
       "Status                0.000000\n",
       "dtype: float64"
      ]
     },
     "execution_count": 18,
     "metadata": {},
     "output_type": "execute_result"
    }
   ],
   "source": [
    "train.isnull().sum()*100 / len(train)"
   ]
  },
  {
   "cell_type": "code",
   "execution_count": 19,
   "id": "42dba07a",
   "metadata": {},
   "outputs": [
    {
     "data": {
      "text/plain": [
       "Gender                2.997275\n",
       "Married               0.000000\n",
       "Dependents            2.724796\n",
       "Education             0.000000\n",
       "Self_Employed         6.267030\n",
       "Applicant_Income      0.000000\n",
       "Coapplicant_Income    0.000000\n",
       "Loan_Amount           0.000000\n",
       "Term                  1.634877\n",
       "Credit_History        7.901907\n",
       "Area                  0.000000\n",
       "dtype: float64"
      ]
     },
     "execution_count": 19,
     "metadata": {},
     "output_type": "execute_result"
    }
   ],
   "source": [
    "test.isnull().sum()*100 / len(test)"
   ]
  },
  {
   "cell_type": "code",
   "execution_count": 20,
   "id": "4ed65b04",
   "metadata": {},
   "outputs": [],
   "source": [
    "columns = ['Gender','Married','Dependents','Term']"
   ]
  },
  {
   "cell_type": "code",
   "execution_count": 21,
   "id": "d5929147",
   "metadata": {},
   "outputs": [],
   "source": [
    "train = train.dropna(subset = columns)"
   ]
  },
  {
   "cell_type": "code",
   "execution_count": 22,
   "id": "79531dc7",
   "metadata": {},
   "outputs": [
    {
     "data": {
      "text/plain": [
       "Gender                0.000000\n",
       "Married               0.000000\n",
       "Dependents            0.000000\n",
       "Education             0.000000\n",
       "Self_Employed         5.410122\n",
       "Applicant_Income      0.000000\n",
       "Coapplicant_Income    0.000000\n",
       "Loan_Amount           0.000000\n",
       "Term                  0.000000\n",
       "Credit_History        8.551483\n",
       "Area                  0.000000\n",
       "Status                0.000000\n",
       "dtype: float64"
      ]
     },
     "execution_count": 22,
     "metadata": {},
     "output_type": "execute_result"
    }
   ],
   "source": [
    "train.isnull().sum()*100 / len(train)"
   ]
  },
  {
   "cell_type": "code",
   "execution_count": 23,
   "id": "56a467cb",
   "metadata": {},
   "outputs": [
    {
     "data": {
      "text/plain": [
       "array(['No', 'Yes', nan], dtype=object)"
      ]
     },
     "execution_count": 23,
     "metadata": {},
     "output_type": "execute_result"
    }
   ],
   "source": [
    "train['Self_Employed'].unique()"
   ]
  },
  {
   "cell_type": "code",
   "execution_count": 24,
   "id": "0ef002ed",
   "metadata": {},
   "outputs": [
    {
     "data": {
      "text/plain": [
       "0    No\n",
       "Name: Self_Employed, dtype: object"
      ]
     },
     "execution_count": 24,
     "metadata": {},
     "output_type": "execute_result"
    }
   ],
   "source": [
    "train['Self_Employed'].mode()"
   ]
  },
  {
   "cell_type": "code",
   "execution_count": 25,
   "id": "6ae3baf3",
   "metadata": {},
   "outputs": [],
   "source": [
    "train['Self_Employed'] = train['Self_Employed'].fillna(train['Self_Employed'].mode()[0])"
   ]
  },
  {
   "cell_type": "code",
   "execution_count": 26,
   "id": "62638d01",
   "metadata": {},
   "outputs": [
    {
     "data": {
      "text/plain": [
       "Gender                0.000000\n",
       "Married               0.000000\n",
       "Dependents            0.000000\n",
       "Education             0.000000\n",
       "Self_Employed         0.000000\n",
       "Applicant_Income      0.000000\n",
       "Coapplicant_Income    0.000000\n",
       "Loan_Amount           0.000000\n",
       "Term                  0.000000\n",
       "Credit_History        8.551483\n",
       "Area                  0.000000\n",
       "Status                0.000000\n",
       "dtype: float64"
      ]
     },
     "execution_count": 26,
     "metadata": {},
     "output_type": "execute_result"
    }
   ],
   "source": [
    "train.isnull().sum()*100 / len(train)"
   ]
  },
  {
   "cell_type": "code",
   "execution_count": 27,
   "id": "7f6deff6",
   "metadata": {},
   "outputs": [
    {
     "data": {
      "text/plain": [
       "array([ 1.,  0., nan])"
      ]
     },
     "execution_count": 27,
     "metadata": {},
     "output_type": "execute_result"
    }
   ],
   "source": [
    "train['Credit_History'].unique()"
   ]
  },
  {
   "cell_type": "code",
   "execution_count": 28,
   "id": "0f426a3d",
   "metadata": {},
   "outputs": [
    {
     "data": {
      "text/plain": [
       "0    1.0\n",
       "Name: Credit_History, dtype: float64"
      ]
     },
     "execution_count": 28,
     "metadata": {},
     "output_type": "execute_result"
    }
   ],
   "source": [
    "train['Credit_History'].mode()"
   ]
  },
  {
   "cell_type": "code",
   "execution_count": 29,
   "id": "0a1f66dd",
   "metadata": {},
   "outputs": [],
   "source": [
    "train['Credit_History'] = train['Credit_History'].fillna(train['Credit_History'].mode()[0])"
   ]
  },
  {
   "cell_type": "code",
   "execution_count": 30,
   "id": "4cf51b93",
   "metadata": {},
   "outputs": [
    {
     "data": {
      "text/plain": [
       "Gender                0.0\n",
       "Married               0.0\n",
       "Dependents            0.0\n",
       "Education             0.0\n",
       "Self_Employed         0.0\n",
       "Applicant_Income      0.0\n",
       "Coapplicant_Income    0.0\n",
       "Loan_Amount           0.0\n",
       "Term                  0.0\n",
       "Credit_History        0.0\n",
       "Area                  0.0\n",
       "Status                0.0\n",
       "dtype: float64"
      ]
     },
     "execution_count": 30,
     "metadata": {},
     "output_type": "execute_result"
    }
   ],
   "source": [
    "train.isnull().sum()*100 / len(train)"
   ]
  },
  {
   "cell_type": "code",
   "execution_count": 31,
   "id": "c4ac1ec2",
   "metadata": {},
   "outputs": [],
   "source": [
    "columns_1 = ['Gender','Dependents','Term']"
   ]
  },
  {
   "cell_type": "code",
   "execution_count": 32,
   "id": "6598405a",
   "metadata": {},
   "outputs": [],
   "source": [
    "test = test.dropna(subset = columns_1)"
   ]
  },
  {
   "cell_type": "code",
   "execution_count": 33,
   "id": "c8e6832a",
   "metadata": {},
   "outputs": [],
   "source": [
    "test['Credit_History'] = test['Credit_History'].fillna(test['Credit_History'].mode()[0])"
   ]
  },
  {
   "cell_type": "code",
   "execution_count": 34,
   "id": "8c8885a4",
   "metadata": {},
   "outputs": [],
   "source": [
    "test['Self_Employed'] = test['Self_Employed'].fillna(test['Self_Employed'].mode()[0])"
   ]
  },
  {
   "cell_type": "code",
   "execution_count": 35,
   "id": "8278a9b4",
   "metadata": {},
   "outputs": [
    {
     "data": {
      "text/plain": [
       "Gender                0.0\n",
       "Married               0.0\n",
       "Dependents            0.0\n",
       "Education             0.0\n",
       "Self_Employed         0.0\n",
       "Applicant_Income      0.0\n",
       "Coapplicant_Income    0.0\n",
       "Loan_Amount           0.0\n",
       "Term                  0.0\n",
       "Credit_History        0.0\n",
       "Area                  0.0\n",
       "dtype: float64"
      ]
     },
     "execution_count": 35,
     "metadata": {},
     "output_type": "execute_result"
    }
   ],
   "source": [
    "test.isnull().sum()*100 / len(test)"
   ]
  },
  {
   "cell_type": "markdown",
   "id": "6e272f77",
   "metadata": {},
   "source": [
    "# Handling categorical columns"
   ]
  },
  {
   "cell_type": "code",
   "execution_count": 36,
   "id": "5958824f",
   "metadata": {},
   "outputs": [
    {
     "data": {
      "text/html": [
       "<div>\n",
       "<style scoped>\n",
       "    .dataframe tbody tr th:only-of-type {\n",
       "        vertical-align: middle;\n",
       "    }\n",
       "\n",
       "    .dataframe tbody tr th {\n",
       "        vertical-align: top;\n",
       "    }\n",
       "\n",
       "    .dataframe thead th {\n",
       "        text-align: right;\n",
       "    }\n",
       "</style>\n",
       "<table border=\"1\" class=\"dataframe\">\n",
       "  <thead>\n",
       "    <tr style=\"text-align: right;\">\n",
       "      <th></th>\n",
       "      <th>Gender</th>\n",
       "      <th>Married</th>\n",
       "      <th>Dependents</th>\n",
       "      <th>Education</th>\n",
       "      <th>Self_Employed</th>\n",
       "      <th>Applicant_Income</th>\n",
       "      <th>Coapplicant_Income</th>\n",
       "      <th>Loan_Amount</th>\n",
       "      <th>Term</th>\n",
       "      <th>Credit_History</th>\n",
       "      <th>Area</th>\n",
       "      <th>Status</th>\n",
       "    </tr>\n",
       "  </thead>\n",
       "  <tbody>\n",
       "    <tr>\n",
       "      <th>129</th>\n",
       "      <td>Male</td>\n",
       "      <td>Yes</td>\n",
       "      <td>0</td>\n",
       "      <td>Graduate</td>\n",
       "      <td>No</td>\n",
       "      <td>608000</td>\n",
       "      <td>256900.0</td>\n",
       "      <td>18200000</td>\n",
       "      <td>360.0</td>\n",
       "      <td>1.0</td>\n",
       "      <td>Rural</td>\n",
       "      <td>N</td>\n",
       "    </tr>\n",
       "    <tr>\n",
       "      <th>449</th>\n",
       "      <td>Male</td>\n",
       "      <td>No</td>\n",
       "      <td>1</td>\n",
       "      <td>Not Graduate</td>\n",
       "      <td>Yes</td>\n",
       "      <td>276900</td>\n",
       "      <td>154200.0</td>\n",
       "      <td>19000000</td>\n",
       "      <td>360.0</td>\n",
       "      <td>1.0</td>\n",
       "      <td>Semiurban</td>\n",
       "      <td>N</td>\n",
       "    </tr>\n",
       "    <tr>\n",
       "      <th>17</th>\n",
       "      <td>Female</td>\n",
       "      <td>No</td>\n",
       "      <td>0</td>\n",
       "      <td>Graduate</td>\n",
       "      <td>No</td>\n",
       "      <td>351000</td>\n",
       "      <td>0.0</td>\n",
       "      <td>7600000</td>\n",
       "      <td>360.0</td>\n",
       "      <td>0.0</td>\n",
       "      <td>Urban</td>\n",
       "      <td>N</td>\n",
       "    </tr>\n",
       "    <tr>\n",
       "      <th>118</th>\n",
       "      <td>Male</td>\n",
       "      <td>Yes</td>\n",
       "      <td>0</td>\n",
       "      <td>Graduate</td>\n",
       "      <td>No</td>\n",
       "      <td>556800</td>\n",
       "      <td>214200.0</td>\n",
       "      <td>17500000</td>\n",
       "      <td>360.0</td>\n",
       "      <td>1.0</td>\n",
       "      <td>Rural</td>\n",
       "      <td>N</td>\n",
       "    </tr>\n",
       "    <tr>\n",
       "      <th>577</th>\n",
       "      <td>Male</td>\n",
       "      <td>No</td>\n",
       "      <td>0</td>\n",
       "      <td>Graduate</td>\n",
       "      <td>No</td>\n",
       "      <td>322900</td>\n",
       "      <td>273900.0</td>\n",
       "      <td>11000000</td>\n",
       "      <td>360.0</td>\n",
       "      <td>1.0</td>\n",
       "      <td>Urban</td>\n",
       "      <td>Y</td>\n",
       "    </tr>\n",
       "  </tbody>\n",
       "</table>\n",
       "</div>"
      ],
      "text/plain": [
       "     Gender Married Dependents     Education Self_Employed  Applicant_Income  \\\n",
       "129    Male     Yes          0      Graduate            No            608000   \n",
       "449    Male      No          1  Not Graduate           Yes            276900   \n",
       "17   Female      No          0      Graduate            No            351000   \n",
       "118    Male     Yes          0      Graduate            No            556800   \n",
       "577    Male      No          0      Graduate            No            322900   \n",
       "\n",
       "     Coapplicant_Income  Loan_Amount   Term  Credit_History       Area Status  \n",
       "129            256900.0     18200000  360.0             1.0      Rural      N  \n",
       "449            154200.0     19000000  360.0             1.0  Semiurban      N  \n",
       "17                  0.0      7600000  360.0             0.0      Urban      N  \n",
       "118            214200.0     17500000  360.0             1.0      Rural      N  \n",
       "577            273900.0     11000000  360.0             1.0      Urban      Y  "
      ]
     },
     "execution_count": 36,
     "metadata": {},
     "output_type": "execute_result"
    }
   ],
   "source": [
    "train.sample(5)"
   ]
  },
  {
   "cell_type": "code",
   "execution_count": 37,
   "id": "6842e9f0",
   "metadata": {},
   "outputs": [
    {
     "data": {
      "text/plain": [
       "0       0\n",
       "1       1\n",
       "2       0\n",
       "3       0\n",
       "4       0\n",
       "       ..\n",
       "609     0\n",
       "610    3+\n",
       "611     1\n",
       "612     2\n",
       "613     0\n",
       "Name: Dependents, Length: 573, dtype: object"
      ]
     },
     "execution_count": 37,
     "metadata": {},
     "output_type": "execute_result"
    }
   ],
   "source": [
    "train['Dependents']"
   ]
  },
  {
   "cell_type": "code",
   "execution_count": 38,
   "id": "51cbac6b",
   "metadata": {},
   "outputs": [],
   "source": [
    "train['Dependents'] = train['Dependents'].replace(to_replace = \"3+\", value = '4')"
   ]
  },
  {
   "cell_type": "code",
   "execution_count": 39,
   "id": "9030eb3a",
   "metadata": {},
   "outputs": [
    {
     "data": {
      "text/plain": [
       "array(['0', '1', '2', '4'], dtype=object)"
      ]
     },
     "execution_count": 39,
     "metadata": {},
     "output_type": "execute_result"
    }
   ],
   "source": [
    "train['Dependents'].unique()"
   ]
  },
  {
   "cell_type": "code",
   "execution_count": 40,
   "id": "734332ba",
   "metadata": {},
   "outputs": [],
   "source": [
    "train['Gender'] = train['Gender'].map({'Male':1,'Female':0}).astype('int')\n",
    "train['Married'] = train['Married'].map({'Yes':1,'No':0}).astype('int')\n",
    "train['Education'] = train['Education'].map({'Graduate':1,'Not Graduate':0}).astype('int')\n",
    "train['Self_Employed'] = train['Self_Employed'].map({'Yes':1,'No':0}).astype('int')\n",
    "train['Area'] = train['Area'].map({'Rural':1,'Urban':0,'Semiurban':2}).astype('int')\n",
    "train['Status'] = train['Status'].map({'Y':1,'N':0}).astype('int')"
   ]
  },
  {
   "cell_type": "code",
   "execution_count": 41,
   "id": "89d03ac3",
   "metadata": {},
   "outputs": [
    {
     "data": {
      "text/html": [
       "<div>\n",
       "<style scoped>\n",
       "    .dataframe tbody tr th:only-of-type {\n",
       "        vertical-align: middle;\n",
       "    }\n",
       "\n",
       "    .dataframe tbody tr th {\n",
       "        vertical-align: top;\n",
       "    }\n",
       "\n",
       "    .dataframe thead th {\n",
       "        text-align: right;\n",
       "    }\n",
       "</style>\n",
       "<table border=\"1\" class=\"dataframe\">\n",
       "  <thead>\n",
       "    <tr style=\"text-align: right;\">\n",
       "      <th></th>\n",
       "      <th>Gender</th>\n",
       "      <th>Married</th>\n",
       "      <th>Dependents</th>\n",
       "      <th>Education</th>\n",
       "      <th>Self_Employed</th>\n",
       "      <th>Applicant_Income</th>\n",
       "      <th>Coapplicant_Income</th>\n",
       "      <th>Loan_Amount</th>\n",
       "      <th>Term</th>\n",
       "      <th>Credit_History</th>\n",
       "      <th>Area</th>\n",
       "      <th>Status</th>\n",
       "    </tr>\n",
       "  </thead>\n",
       "  <tbody>\n",
       "    <tr>\n",
       "      <th>0</th>\n",
       "      <td>1</td>\n",
       "      <td>0</td>\n",
       "      <td>0</td>\n",
       "      <td>1</td>\n",
       "      <td>0</td>\n",
       "      <td>584900</td>\n",
       "      <td>0.0</td>\n",
       "      <td>15000000</td>\n",
       "      <td>360.0</td>\n",
       "      <td>1.0</td>\n",
       "      <td>0</td>\n",
       "      <td>1</td>\n",
       "    </tr>\n",
       "    <tr>\n",
       "      <th>1</th>\n",
       "      <td>1</td>\n",
       "      <td>1</td>\n",
       "      <td>1</td>\n",
       "      <td>1</td>\n",
       "      <td>0</td>\n",
       "      <td>458300</td>\n",
       "      <td>150800.0</td>\n",
       "      <td>12800000</td>\n",
       "      <td>360.0</td>\n",
       "      <td>1.0</td>\n",
       "      <td>1</td>\n",
       "      <td>0</td>\n",
       "    </tr>\n",
       "    <tr>\n",
       "      <th>2</th>\n",
       "      <td>1</td>\n",
       "      <td>1</td>\n",
       "      <td>0</td>\n",
       "      <td>1</td>\n",
       "      <td>1</td>\n",
       "      <td>300000</td>\n",
       "      <td>0.0</td>\n",
       "      <td>6600000</td>\n",
       "      <td>360.0</td>\n",
       "      <td>1.0</td>\n",
       "      <td>0</td>\n",
       "      <td>1</td>\n",
       "    </tr>\n",
       "    <tr>\n",
       "      <th>3</th>\n",
       "      <td>1</td>\n",
       "      <td>1</td>\n",
       "      <td>0</td>\n",
       "      <td>0</td>\n",
       "      <td>0</td>\n",
       "      <td>258300</td>\n",
       "      <td>235800.0</td>\n",
       "      <td>12000000</td>\n",
       "      <td>360.0</td>\n",
       "      <td>1.0</td>\n",
       "      <td>0</td>\n",
       "      <td>1</td>\n",
       "    </tr>\n",
       "    <tr>\n",
       "      <th>4</th>\n",
       "      <td>1</td>\n",
       "      <td>0</td>\n",
       "      <td>0</td>\n",
       "      <td>1</td>\n",
       "      <td>0</td>\n",
       "      <td>600000</td>\n",
       "      <td>0.0</td>\n",
       "      <td>14100000</td>\n",
       "      <td>360.0</td>\n",
       "      <td>1.0</td>\n",
       "      <td>0</td>\n",
       "      <td>1</td>\n",
       "    </tr>\n",
       "  </tbody>\n",
       "</table>\n",
       "</div>"
      ],
      "text/plain": [
       "   Gender  Married Dependents  Education  Self_Employed  Applicant_Income  \\\n",
       "0       1        0          0          1              0            584900   \n",
       "1       1        1          1          1              0            458300   \n",
       "2       1        1          0          1              1            300000   \n",
       "3       1        1          0          0              0            258300   \n",
       "4       1        0          0          1              0            600000   \n",
       "\n",
       "   Coapplicant_Income  Loan_Amount   Term  Credit_History  Area  Status  \n",
       "0                 0.0     15000000  360.0             1.0     0       1  \n",
       "1            150800.0     12800000  360.0             1.0     1       0  \n",
       "2                 0.0      6600000  360.0             1.0     0       1  \n",
       "3            235800.0     12000000  360.0             1.0     0       1  \n",
       "4                 0.0     14100000  360.0             1.0     0       1  "
      ]
     },
     "execution_count": 41,
     "metadata": {},
     "output_type": "execute_result"
    }
   ],
   "source": [
    "train.head()"
   ]
  },
  {
   "cell_type": "code",
   "execution_count": 42,
   "id": "91b8fdf6",
   "metadata": {},
   "outputs": [
    {
     "data": {
      "text/plain": [
       "0       0\n",
       "1       1\n",
       "2       2\n",
       "3       2\n",
       "4       0\n",
       "       ..\n",
       "362    3+\n",
       "363     0\n",
       "364     0\n",
       "365     0\n",
       "366     0\n",
       "Name: Dependents, Length: 341, dtype: object"
      ]
     },
     "execution_count": 42,
     "metadata": {},
     "output_type": "execute_result"
    }
   ],
   "source": [
    "test['Dependents']"
   ]
  },
  {
   "cell_type": "code",
   "execution_count": 43,
   "id": "27c132bc",
   "metadata": {},
   "outputs": [],
   "source": [
    "test['Dependents'] = test['Dependents'].replace(to_replace = \"3+\", value = '4')"
   ]
  },
  {
   "cell_type": "code",
   "execution_count": 44,
   "id": "89ff484a",
   "metadata": {},
   "outputs": [
    {
     "data": {
      "text/plain": [
       "array(['0', '1', '2', '4'], dtype=object)"
      ]
     },
     "execution_count": 44,
     "metadata": {},
     "output_type": "execute_result"
    }
   ],
   "source": [
    "test['Dependents'].unique()"
   ]
  },
  {
   "cell_type": "code",
   "execution_count": 45,
   "id": "6a797be8",
   "metadata": {},
   "outputs": [],
   "source": [
    "test['Gender'] = test['Gender'].map({'Male':1,'Female':0}).astype('int')\n",
    "test['Married'] = test['Married'].map({'Yes':1,'No':0}).astype('int')\n",
    "test['Education'] = test['Education'].map({'Graduate':1,'Not Graduate':0}).astype('int')\n",
    "test['Self_Employed'] = test['Self_Employed'].map({'Yes':1,'No':0}).astype('int')\n",
    "test['Area'] = test['Area'].map({'Rural':1,'Urban':0,'Semiurban':2}).astype('int')"
   ]
  },
  {
   "cell_type": "code",
   "execution_count": 46,
   "id": "5ce5eb7c",
   "metadata": {},
   "outputs": [
    {
     "data": {
      "text/html": [
       "<div>\n",
       "<style scoped>\n",
       "    .dataframe tbody tr th:only-of-type {\n",
       "        vertical-align: middle;\n",
       "    }\n",
       "\n",
       "    .dataframe tbody tr th {\n",
       "        vertical-align: top;\n",
       "    }\n",
       "\n",
       "    .dataframe thead th {\n",
       "        text-align: right;\n",
       "    }\n",
       "</style>\n",
       "<table border=\"1\" class=\"dataframe\">\n",
       "  <thead>\n",
       "    <tr style=\"text-align: right;\">\n",
       "      <th></th>\n",
       "      <th>Gender</th>\n",
       "      <th>Married</th>\n",
       "      <th>Dependents</th>\n",
       "      <th>Education</th>\n",
       "      <th>Self_Employed</th>\n",
       "      <th>Applicant_Income</th>\n",
       "      <th>Coapplicant_Income</th>\n",
       "      <th>Loan_Amount</th>\n",
       "      <th>Term</th>\n",
       "      <th>Credit_History</th>\n",
       "      <th>Area</th>\n",
       "    </tr>\n",
       "  </thead>\n",
       "  <tbody>\n",
       "    <tr>\n",
       "      <th>0</th>\n",
       "      <td>1</td>\n",
       "      <td>1</td>\n",
       "      <td>0</td>\n",
       "      <td>1</td>\n",
       "      <td>0</td>\n",
       "      <td>572000</td>\n",
       "      <td>0</td>\n",
       "      <td>11000000</td>\n",
       "      <td>360.0</td>\n",
       "      <td>1.0</td>\n",
       "      <td>0</td>\n",
       "    </tr>\n",
       "    <tr>\n",
       "      <th>1</th>\n",
       "      <td>1</td>\n",
       "      <td>1</td>\n",
       "      <td>1</td>\n",
       "      <td>1</td>\n",
       "      <td>0</td>\n",
       "      <td>307600</td>\n",
       "      <td>150000</td>\n",
       "      <td>12600000</td>\n",
       "      <td>360.0</td>\n",
       "      <td>1.0</td>\n",
       "      <td>0</td>\n",
       "    </tr>\n",
       "    <tr>\n",
       "      <th>2</th>\n",
       "      <td>1</td>\n",
       "      <td>1</td>\n",
       "      <td>2</td>\n",
       "      <td>1</td>\n",
       "      <td>0</td>\n",
       "      <td>500000</td>\n",
       "      <td>180000</td>\n",
       "      <td>20800000</td>\n",
       "      <td>360.0</td>\n",
       "      <td>1.0</td>\n",
       "      <td>0</td>\n",
       "    </tr>\n",
       "    <tr>\n",
       "      <th>3</th>\n",
       "      <td>1</td>\n",
       "      <td>1</td>\n",
       "      <td>2</td>\n",
       "      <td>1</td>\n",
       "      <td>0</td>\n",
       "      <td>234000</td>\n",
       "      <td>254600</td>\n",
       "      <td>10000000</td>\n",
       "      <td>360.0</td>\n",
       "      <td>1.0</td>\n",
       "      <td>0</td>\n",
       "    </tr>\n",
       "    <tr>\n",
       "      <th>4</th>\n",
       "      <td>1</td>\n",
       "      <td>0</td>\n",
       "      <td>0</td>\n",
       "      <td>0</td>\n",
       "      <td>0</td>\n",
       "      <td>327600</td>\n",
       "      <td>0</td>\n",
       "      <td>7800000</td>\n",
       "      <td>360.0</td>\n",
       "      <td>1.0</td>\n",
       "      <td>0</td>\n",
       "    </tr>\n",
       "  </tbody>\n",
       "</table>\n",
       "</div>"
      ],
      "text/plain": [
       "   Gender  Married Dependents  Education  Self_Employed  Applicant_Income  \\\n",
       "0       1        1          0          1              0            572000   \n",
       "1       1        1          1          1              0            307600   \n",
       "2       1        1          2          1              0            500000   \n",
       "3       1        1          2          1              0            234000   \n",
       "4       1        0          0          0              0            327600   \n",
       "\n",
       "   Coapplicant_Income  Loan_Amount   Term  Credit_History  Area  \n",
       "0                   0     11000000  360.0             1.0     0  \n",
       "1              150000     12600000  360.0             1.0     0  \n",
       "2              180000     20800000  360.0             1.0     0  \n",
       "3              254600     10000000  360.0             1.0     0  \n",
       "4                   0      7800000  360.0             1.0     0  "
      ]
     },
     "execution_count": 46,
     "metadata": {},
     "output_type": "execute_result"
    }
   ],
   "source": [
    "test.head()"
   ]
  },
  {
   "cell_type": "markdown",
   "id": "815023f6",
   "metadata": {},
   "source": [
    "# EDA"
   ]
  },
  {
   "cell_type": "code",
   "execution_count": 47,
   "id": "af0e3be5",
   "metadata": {},
   "outputs": [
    {
     "data": {
      "image/png": "[encoded data removed]",
      "text/plain": [
       "<Figure size 640x480 with 1 Axes>"
      ]
     },
     "metadata": {},
     "output_type": "display_data"
    }
   ],
   "source": [
    "plt.hist(train['Loan_Amount'])\n",
    "plt.show()"
   ]
  },
  {
   "cell_type": "code",
   "execution_count": 48,
   "id": "34dec1ba",
   "metadata": {},
   "outputs": [
    {
     "data": {
      "text/plain": [
       "<Axes: >"
      ]
     },
     "execution_count": 48,
     "metadata": {},
     "output_type": "execute_result"
    },
    {
     "data": {
      "image/png": "[encoded data removed]",
      "text/plain": [
       "<Figure size 640x480 with 1 Axes>"
      ]
     },
     "metadata": {},
     "output_type": "display_data"
    }
   ],
   "source": [
    "train['TotalIncome']=train['Applicant_Income']+train['Coapplicant_Income']\n",
    "train['TotalIncome']=np.log(train['TotalIncome'])\n",
    "train['TotalIncome'].hist(bins=20)"
   ]
  },
  {
   "cell_type": "code",
   "execution_count": 49,
   "id": "ec8b72f0",
   "metadata": {},
   "outputs": [
    {
     "name": "stdout",
     "output_type": "stream",
     "text": [
      "Number of people who took loan by gender\n",
      "1    467\n",
      "0    106\n",
      "Name: Gender, dtype: int64\n"
     ]
    },
    {
     "data": {
      "text/plain": [
       "<Axes: xlabel='Gender', ylabel='count'>"
      ]
     },
     "execution_count": 49,
     "metadata": {},
     "output_type": "execute_result"
    },
    {
     "data": {
      "image/png": "[encoded data removed]",
      "text/plain": [
       "<Figure size 640x480 with 1 Axes>"
      ]
     },
     "metadata": {},
     "output_type": "display_data"
    }
   ],
   "source": [
    "print(\"Number of people who took loan by gender\")\n",
    "print(train['Gender'].value_counts())\n",
    "sns.countplot(x='Gender',data=train,palette='Set2')"
   ]
  },
  {
   "cell_type": "code",
   "execution_count": 50,
   "id": "10a0ebdf",
   "metadata": {},
   "outputs": [
    {
     "data": {
      "text/plain": [
       "<Axes: xlabel='Status', ylabel='count'>"
      ]
     },
     "execution_count": 50,
     "metadata": {},
     "output_type": "execute_result"
    },
    {
     "data": {
      "image/png": "[encoded data removed]",
      "text/plain": [
       "<Figure size 640x480 with 1 Axes>"
      ]
     },
     "metadata": {},
     "output_type": "display_data"
    }
   ],
   "source": [
    "sns.countplot(x=\"Status\",data=train,palette=\"Set2\")"
   ]
  },
  {
   "cell_type": "code",
   "execution_count": 51,
   "id": "dc687305",
   "metadata": {},
   "outputs": [
    {
     "name": "stdout",
     "output_type": "stream",
     "text": [
      "Number of people who took loan by Marital staus\n",
      "1    372\n",
      "0    201\n",
      "Name: Married, dtype: int64\n"
     ]
    },
    {
     "data": {
      "text/plain": [
       "<Axes: xlabel='Married', ylabel='count'>"
      ]
     },
     "execution_count": 51,
     "metadata": {},
     "output_type": "execute_result"
    },
    {
     "data": {
      "image/png": "[encoded data removed]",
      "text/plain": [
       "<Figure size 640x480 with 1 Axes>"
      ]
     },
     "metadata": {},
     "output_type": "display_data"
    }
   ],
   "source": [
    "print(\"Number of people who took loan by Marital staus\")\n",
    "print(train['Married'].value_counts())\n",
    "sns.countplot(x='Married',data=train,palette='Set2')"
   ]
  },
  {
   "cell_type": "code",
   "execution_count": 52,
   "id": "fd1c6dde",
   "metadata": {},
   "outputs": [
    {
     "name": "stdout",
     "output_type": "stream",
     "text": [
      "Number of people who took loan by Dependency\n",
      "0    327\n",
      "1    100\n",
      "2     99\n",
      "4     47\n",
      "Name: Dependents, dtype: int64\n"
     ]
    },
    {
     "data": {
      "text/plain": [
       "<Axes: xlabel='Dependents', ylabel='count'>"
      ]
     },
     "execution_count": 52,
     "metadata": {},
     "output_type": "execute_result"
    },
    {
     "data": {
      "image/png": "[encoded data removed]",
      "text/plain": [
       "<Figure size 640x480 with 1 Axes>"
      ]
     },
     "metadata": {},
     "output_type": "display_data"
    }
   ],
   "source": [
    "print(\"Number of people who took loan by Dependency\")\n",
    "print(train['Dependents'].value_counts())\n",
    "sns.countplot(x='Dependents',data=train,palette='Set2')"
   ]
  },
  {
   "cell_type": "code",
   "execution_count": 53,
   "id": "c8c60d3d",
   "metadata": {},
   "outputs": [
    {
     "name": "stdout",
     "output_type": "stream",
     "text": [
      "Number of people who took loan by CreditHistory\n",
      "1.0    498\n",
      "0.0     75\n",
      "Name: Credit_History, dtype: int64\n"
     ]
    },
    {
     "data": {
      "text/plain": [
       "<Axes: xlabel='Credit_History', ylabel='count'>"
      ]
     },
     "execution_count": 53,
     "metadata": {},
     "output_type": "execute_result"
    },
    {
     "data": {
      "image/png": "[encoded data removed]",
      "text/plain": [
       "<Figure size 640x480 with 1 Axes>"
      ]
     },
     "metadata": {},
     "output_type": "display_data"
    }
   ],
   "source": [
    "print(\"Number of people who took loan by CreditHistory\")\n",
    "print(train['Credit_History'].value_counts())\n",
    "sns.countplot(x='Credit_History',data=train,palette='Set1')"
   ]
  },
  {
   "cell_type": "code",
   "execution_count": 54,
   "id": "22f14e49",
   "metadata": {},
   "outputs": [
    {
     "data": {
      "text/plain": [
       "<matplotlib.collections.PathCollection at 0x1e6a0bda050>"
      ]
     },
     "execution_count": 54,
     "metadata": {},
     "output_type": "execute_result"
    },
    {
     "data": {
      "image/png": "[encoded data removed]",
      "text/plain": [
       "<Figure size 640x480 with 1 Axes>"
      ]
     },
     "metadata": {},
     "output_type": "display_data"
    }
   ],
   "source": [
    "plt.title('Loan amount taken by people on basis of education')\n",
    "plt.xlabel('Education')\n",
    "plt.ylabel('Loan_Amount')\n",
    "plt.scatter(train['Education'],train['Loan_Amount'])"
   ]
  },
  {
   "cell_type": "code",
   "execution_count": 55,
   "id": "b3cb5daa",
   "metadata": {},
   "outputs": [
    {
     "data": {
      "text/plain": [
       "<Axes: xlabel='Loan_Amount'>"
      ]
     },
     "execution_count": 55,
     "metadata": {},
     "output_type": "execute_result"
    },
    {
     "data": {
      "image/png": "[encoded data removed]",
      "text/plain": [
       "<Figure size 1000x1000 with 4 Axes>"
      ]
     },
     "metadata": {},
     "output_type": "display_data"
    }
   ],
   "source": [
    "sns.set_style='white'\n",
    "fig,axs=plt.subplots(2,2,figsize=(10,10))\n",
    "sns.violinplot(data=train,x=\"Applicant_Income\",color='pink',kde=True,ax=axs[0,0])\n",
    "sns.violinplot(data=train,x=\"Coapplicant_Income\",color='skyblue',kde=True,ax=axs[0,1])\n",
    "sns.violinplot(data=train,x=\"Loan_Amount\",color='green',kde=True,ax=axs[1,0])"
   ]
  },
  {
   "cell_type": "code",
   "execution_count": 56,
   "id": "f2c0e0d0",
   "metadata": {},
   "outputs": [
    {
     "data": {
      "text/plain": [
       "<Axes: xlabel='Status', ylabel='Applicant_Income'>"
      ]
     },
     "execution_count": 56,
     "metadata": {},
     "output_type": "execute_result"
    },
    {
     "data": {
      "image/png": "[encoded data removed]",
      "text/plain": [
       "<Figure size 640x480 with 1 Axes>"
      ]
     },
     "metadata": {},
     "output_type": "display_data"
    }
   ],
   "source": [
    "sns.boxplot(x='Status',y='Applicant_Income',data=train,palette='rocket')"
   ]
  },
  {
   "cell_type": "code",
   "execution_count": 57,
   "id": "70b3ecda",
   "metadata": {},
   "outputs": [
    {
     "data": {
      "text/html": [
       "<div>\n",
       "<style scoped>\n",
       "    .dataframe tbody tr th:only-of-type {\n",
       "        vertical-align: middle;\n",
       "    }\n",
       "\n",
       "    .dataframe tbody tr th {\n",
       "        vertical-align: top;\n",
       "    }\n",
       "\n",
       "    .dataframe thead th {\n",
       "        text-align: right;\n",
       "    }\n",
       "</style>\n",
       "<table border=\"1\" class=\"dataframe\">\n",
       "  <thead>\n",
       "    <tr style=\"text-align: right;\">\n",
       "      <th></th>\n",
       "      <th>Gender</th>\n",
       "      <th>Married</th>\n",
       "      <th>Dependents</th>\n",
       "      <th>Education</th>\n",
       "      <th>Self_Employed</th>\n",
       "      <th>Applicant_Income</th>\n",
       "      <th>Coapplicant_Income</th>\n",
       "      <th>Loan_Amount</th>\n",
       "      <th>Term</th>\n",
       "      <th>Credit_History</th>\n",
       "      <th>Area</th>\n",
       "      <th>Status</th>\n",
       "      <th>TotalIncome</th>\n",
       "    </tr>\n",
       "  </thead>\n",
       "  <tbody>\n",
       "    <tr>\n",
       "      <th>0</th>\n",
       "      <td>1</td>\n",
       "      <td>0</td>\n",
       "      <td>0</td>\n",
       "      <td>1</td>\n",
       "      <td>0</td>\n",
       "      <td>584900</td>\n",
       "      <td>0.0</td>\n",
       "      <td>15000000</td>\n",
       "      <td>360.0</td>\n",
       "      <td>1.0</td>\n",
       "      <td>0</td>\n",
       "      <td>1</td>\n",
       "      <td>13.279196</td>\n",
       "    </tr>\n",
       "    <tr>\n",
       "      <th>1</th>\n",
       "      <td>1</td>\n",
       "      <td>1</td>\n",
       "      <td>1</td>\n",
       "      <td>1</td>\n",
       "      <td>0</td>\n",
       "      <td>458300</td>\n",
       "      <td>150800.0</td>\n",
       "      <td>12800000</td>\n",
       "      <td>360.0</td>\n",
       "      <td>1.0</td>\n",
       "      <td>1</td>\n",
       "      <td>0</td>\n",
       "      <td>13.319738</td>\n",
       "    </tr>\n",
       "    <tr>\n",
       "      <th>2</th>\n",
       "      <td>1</td>\n",
       "      <td>1</td>\n",
       "      <td>0</td>\n",
       "      <td>1</td>\n",
       "      <td>1</td>\n",
       "      <td>300000</td>\n",
       "      <td>0.0</td>\n",
       "      <td>6600000</td>\n",
       "      <td>360.0</td>\n",
       "      <td>1.0</td>\n",
       "      <td>0</td>\n",
       "      <td>1</td>\n",
       "      <td>12.611538</td>\n",
       "    </tr>\n",
       "    <tr>\n",
       "      <th>3</th>\n",
       "      <td>1</td>\n",
       "      <td>1</td>\n",
       "      <td>0</td>\n",
       "      <td>0</td>\n",
       "      <td>0</td>\n",
       "      <td>258300</td>\n",
       "      <td>235800.0</td>\n",
       "      <td>12000000</td>\n",
       "      <td>360.0</td>\n",
       "      <td>1.0</td>\n",
       "      <td>0</td>\n",
       "      <td>1</td>\n",
       "      <td>13.110493</td>\n",
       "    </tr>\n",
       "    <tr>\n",
       "      <th>4</th>\n",
       "      <td>1</td>\n",
       "      <td>0</td>\n",
       "      <td>0</td>\n",
       "      <td>1</td>\n",
       "      <td>0</td>\n",
       "      <td>600000</td>\n",
       "      <td>0.0</td>\n",
       "      <td>14100000</td>\n",
       "      <td>360.0</td>\n",
       "      <td>1.0</td>\n",
       "      <td>0</td>\n",
       "      <td>1</td>\n",
       "      <td>13.304685</td>\n",
       "    </tr>\n",
       "  </tbody>\n",
       "</table>\n",
       "</div>"
      ],
      "text/plain": [
       "   Gender  Married Dependents  Education  Self_Employed  Applicant_Income  \\\n",
       "0       1        0          0          1              0            584900   \n",
       "1       1        1          1          1              0            458300   \n",
       "2       1        1          0          1              1            300000   \n",
       "3       1        1          0          0              0            258300   \n",
       "4       1        0          0          1              0            600000   \n",
       "\n",
       "   Coapplicant_Income  Loan_Amount   Term  Credit_History  Area  Status  \\\n",
       "0                 0.0     15000000  360.0             1.0     0       1   \n",
       "1            150800.0     12800000  360.0             1.0     1       0   \n",
       "2                 0.0      6600000  360.0             1.0     0       1   \n",
       "3            235800.0     12000000  360.0             1.0     0       1   \n",
       "4                 0.0     14100000  360.0             1.0     0       1   \n",
       "\n",
       "   TotalIncome  \n",
       "0    13.279196  \n",
       "1    13.319738  \n",
       "2    12.611538  \n",
       "3    13.110493  \n",
       "4    13.304685  "
      ]
     },
     "execution_count": 57,
     "metadata": {},
     "output_type": "execute_result"
    }
   ],
   "source": [
    "train.head()"
   ]
  },
  {
   "cell_type": "code",
   "execution_count": 58,
   "id": "781308e6",
   "metadata": {},
   "outputs": [],
   "source": [
    "train = train.drop([\"TotalIncome\"], axis=1)"
   ]
  },
  {
   "cell_type": "markdown",
   "id": "5883c685",
   "metadata": {},
   "source": [
    "# Store Feature Matrix in X and response(Target) in Vector y"
   ]
  },
  {
   "cell_type": "code",
   "execution_count": 60,
   "id": "8a5d67e2",
   "metadata": {},
   "outputs": [],
   "source": [
    "X = train.drop('Status', axis = 1)\n",
    "y = train['Status']"
   ]
  },
  {
   "cell_type": "code",
   "execution_count": 61,
   "id": "ed6fd543",
   "metadata": {},
   "outputs": [
    {
     "data": {
      "text/plain": [
       "0      1\n",
       "1      0\n",
       "2      1\n",
       "3      1\n",
       "4      1\n",
       "      ..\n",
       "609    1\n",
       "610    1\n",
       "611    1\n",
       "612    1\n",
       "613    0\n",
       "Name: Status, Length: 573, dtype: int32"
      ]
     },
     "execution_count": 61,
     "metadata": {},
     "output_type": "execute_result"
    }
   ],
   "source": [
    "y"
   ]
  },
  {
   "cell_type": "markdown",
   "id": "e768f32e",
   "metadata": {},
   "source": [
    "# Model Selection"
   ]
  },
  {
   "cell_type": "markdown",
   "id": "6a733276",
   "metadata": {},
   "source": [
    "# 1. Logistic Regression"
   ]
  },
  {
   "cell_type": "code",
   "execution_count": 66,
   "id": "a309aa62",
   "metadata": {},
   "outputs": [
    {
     "name": "stdout",
     "output_type": "stream",
     "text": [
      "Collecting scikit-learn\n",
      "  Downloading scikit_learn-1.2.2-cp311-cp311-win_amd64.whl (8.3 MB)\n",
      "     ---------------------------------------- 0.0/8.3 MB ? eta -:--:--\n",
      "     ---------------------------------------- 0.1/8.3 MB 2.3 MB/s eta 0:00:04\n",
      "      --------------------------------------- 0.2/8.3 MB 2.0 MB/s eta 0:00:05\n",
      "     - -------------------------------------- 0.3/8.3 MB 2.7 MB/s eta 0:00:03\n",
      "     --- ------------------------------------ 0.8/8.3 MB 5.0 MB/s eta 0:00:02\n",
      "     ------ --------------------------------- 1.3/8.3 MB 6.7 MB/s eta 0:00:02\n",
      "     ------ --------------------------------- 1.3/8.3 MB 6.4 MB/s eta 0:00:02\n",
      "     ------------- -------------------------- 2.8/8.3 MB 10.1 MB/s eta 0:00:01\n",
      "     ----------------- ---------------------- 3.5/8.3 MB 11.3 MB/s eta 0:00:01\n",
      "     -------------------- ------------------- 4.3/8.3 MB 11.9 MB/s eta 0:00:01\n",
      "     ------------------------ --------------- 5.0/8.3 MB 12.9 MB/s eta 0:00:01\n",
      "     --------------------------- ------------ 5.8/8.3 MB 12.2 MB/s eta 0:00:01\n",
      "     ------------------------------- -------- 6.5/8.3 MB 13.0 MB/s eta 0:00:01\n",
      "     ----------------------------------- ---- 7.4/8.3 MB 13.1 MB/s eta 0:00:01\n",
      "     -------------------------------------- - 7.9/8.3 MB 13.2 MB/s eta 0:00:01\n",
      "     -------------------------------------- - 8.0/8.3 MB 12.5 MB/s eta 0:00:01\n",
      "     ---------------------------------------  8.2/8.3 MB 12.5 MB/s eta 0:00:01\n",
      "     ---------------------------------------  8.3/8.3 MB 12.0 MB/s eta 0:00:01\n",
      "     ---------------------------------------  8.3/8.3 MB 12.0 MB/s eta 0:00:01\n",
      "     ---------------------------------------  8.3/8.3 MB 12.0 MB/s eta 0:00:01\n",
      "     ---------------------------------------  8.3/8.3 MB 12.0 MB/s eta 0:00:01\n",
      "     ---------------------------------------  8.3/8.3 MB 12.0 MB/s eta 0:00:01\n",
      "     ---------------------------------------  8.3/8.3 MB 12.0 MB/s eta 0:00:01\n",
      "     ---------------------------------------  8.3/8.3 MB 12.0 MB/s eta 0:00:01\n",
      "     ---------------------------------------  8.3/8.3 MB 12.0 MB/s eta 0:00:01\n",
      "     ---------------------------------------  8.3/8.3 MB 12.0 MB/s eta 0:00:01\n",
      "     ---------------------------------------  8.3/8.3 MB 12.0 MB/s eta 0:00:01\n",
      "     ---------------------------------------  8.3/8.3 MB 12.0 MB/s eta 0:00:01\n",
      "     ---------------------------------------  8.3/8.3 MB 12.0 MB/s eta 0:00:01\n",
      "     ---------------------------------------- 8.3/8.3 MB 7.0 MB/s eta 0:00:00\n",
      "Requirement already satisfied: numpy>=1.17.3 in c:\\users\\anand\\anaconda3\\envs\\dev1\\lib\\site-packages (from scikit-learn) (1.24.2)\n",
      "Requirement already satisfied: scipy>=1.3.2 in c:\\users\\anand\\anaconda3\\envs\\dev1\\lib\\site-packages (from scikit-learn) (1.10.1)\n",
      "Collecting joblib>=1.1.1\n",
      "  Downloading joblib-1.2.0-py3-none-any.whl (297 kB)\n",
      "     ---------------------------------------- 0.0/298.0 kB ? eta -:--:--\n",
      "     ------------------------------------  297.0/298.0 kB 17.9 MB/s eta 0:00:01\n",
      "     -------------------------------------- 298.0/298.0 kB 4.6 MB/s eta 0:00:00\n",
      "Collecting threadpoolctl>=2.0.0\n",
      "  Downloading threadpoolctl-3.1.0-py3-none-any.whl (14 kB)\n",
      "Installing collected packages: threadpoolctl, joblib, scikit-learn\n",
      "Successfully installed joblib-1.2.0 scikit-learn-1.2.2 threadpoolctl-3.1.0\n"
     ]
    }
   ],
   "source": [
    "!pip install -U scikit-learn"
   ]
  },
  {
   "cell_type": "code",
   "execution_count": 67,
   "id": "f6365b9c",
   "metadata": {},
   "outputs": [],
   "source": [
    "from sklearn.linear_model import LinearRegression, LogisticRegression"
   ]
  },
  {
   "cell_type": "code",
   "execution_count": 68,
   "id": "3963038a",
   "metadata": {},
   "outputs": [],
   "source": [
    "from sklearn.model_selection import train_test_split\n",
    "X_train, X_test, y_train, y_test = train_test_split(\n",
    "    X, y, test_size=0.2, random_state=42)"
   ]
  },
  {
   "cell_type": "code",
   "execution_count": 69,
   "id": "7c68e39c",
   "metadata": {},
   "outputs": [
    {
     "data": {
      "text/html": [
       "<style>#sk-container-id-1 {color: black;background-color: white;}#sk-container-id-1 pre{padding: 0;}#sk-container-id-1 div.sk-toggleable {background-color: white;}#sk-container-id-1 label.sk-toggleable__label {cursor: pointer;display: block;width: 100%;margin-bottom: 0;padding: 0.3em;box-sizing: border-box;text-align: center;}#sk-container-id-1 label.sk-toggleable__label-arrow:before {content: \"▸\";float: left;margin-right: 0.25em;color: #696969;}#sk-container-id-1 label.sk-toggleable__label-arrow:hover:before {color: black;}#sk-container-id-1 div.sk-estimator:hover label.sk-toggleable__label-arrow:before {color: black;}#sk-container-id-1 div.sk-toggleable__content {max-height: 0;max-width: 0;overflow: hidden;text-align: left;background-color: #f0f8ff;}#sk-container-id-1 div.sk-toggleable__content pre {margin: 0.2em;color: black;border-radius: 0.25em;background-color: #f0f8ff;}#sk-container-id-1 input.sk-toggleable__control:checked~div.sk-toggleable__content {max-height: 200px;max-width: 100%;overflow: auto;}#sk-container-id-1 input.sk-toggleable__control:checked~label.sk-toggleable__label-arrow:before {content: \"▾\";}#sk-container-id-1 div.sk-estimator input.sk-toggleable__control:checked~label.sk-toggleable__label {background-color: #d4ebff;}#sk-container-id-1 div.sk-label input.sk-toggleable__control:checked~label.sk-toggleable__label {background-color: #d4ebff;}#sk-container-id-1 input.sk-hidden--visually {border: 0;clip: rect(1px 1px 1px 1px);clip: rect(1px, 1px, 1px, 1px);height: 1px;margin: -1px;overflow: hidden;padding: 0;position: absolute;width: 1px;}#sk-container-id-1 div.sk-estimator {font-family: monospace;background-color: #f0f8ff;border: 1px dotted black;border-radius: 0.25em;box-sizing: border-box;margin-bottom: 0.5em;}#sk-container-id-1 div.sk-estimator:hover {background-color: #d4ebff;}#sk-container-id-1 div.sk-parallel-item::after {content: \"\";width: 100%;border-bottom: 1px solid gray;flex-grow: 1;}#sk-container-id-1 div.sk-label:hover label.sk-toggleable__label {background-color: #d4ebff;}#sk-container-id-1 div.sk-serial::before {content: \"\";position: absolute;border-left: 1px solid gray;box-sizing: border-box;top: 0;bottom: 0;left: 50%;z-index: 0;}#sk-container-id-1 div.sk-serial {display: flex;flex-direction: column;align-items: center;background-color: white;padding-right: 0.2em;padding-left: 0.2em;position: relative;}#sk-container-id-1 div.sk-item {position: relative;z-index: 1;}#sk-container-id-1 div.sk-parallel {display: flex;align-items: stretch;justify-content: center;background-color: white;position: relative;}#sk-container-id-1 div.sk-item::before, #sk-container-id-1 div.sk-parallel-item::before {content: \"\";position: absolute;border-left: 1px solid gray;box-sizing: border-box;top: 0;bottom: 0;left: 50%;z-index: -1;}#sk-container-id-1 div.sk-parallel-item {display: flex;flex-direction: column;z-index: 1;position: relative;background-color: white;}#sk-container-id-1 div.sk-parallel-item:first-child::after {align-self: flex-end;width: 50%;}#sk-container-id-1 div.sk-parallel-item:last-child::after {align-self: flex-start;width: 50%;}#sk-container-id-1 div.sk-parallel-item:only-child::after {width: 0;}#sk-container-id-1 div.sk-dashed-wrapped {border: 1px dashed gray;margin: 0 0.4em 0.5em 0.4em;box-sizing: border-box;padding-bottom: 0.4em;background-color: white;}#sk-container-id-1 div.sk-label label {font-family: monospace;font-weight: bold;display: inline-block;line-height: 1.2em;}#sk-container-id-1 div.sk-label-container {text-align: center;}#sk-container-id-1 div.sk-container {/* jupyter's `normalize.less` sets `[hidden] { display: none; }` but bootstrap.min.css set `[hidden] { display: none !important; }` so we also need the `!important` here to be able to override the default hidden behavior on the sphinx rendered scikit-learn.org. See: https://github.com/scikit-learn/scikit-learn/issues/21755 */display: inline-block !important;position: relative;}#sk-container-id-1 div.sk-text-repr-fallback {display: none;}</style><div id=\"sk-container-id-1\" class=\"sk-top-container\"><div class=\"sk-text-repr-fallback\"><pre>LogisticRegression()</pre><b>In a Jupyter environment, please rerun this cell to show the HTML representation or trust the notebook. <br />On GitHub, the HTML representation is unable to render, please try loading this page with nbviewer.org.</b></div><div class=\"sk-container\" hidden><div class=\"sk-item\"><div class=\"sk-estimator sk-toggleable\"><input class=\"sk-toggleable__control sk-hidden--visually\" id=\"sk-estimator-id-1\" type=\"checkbox\" checked><label for=\"sk-estimator-id-1\" class=\"sk-toggleable__label sk-toggleable__label-arrow\">LogisticRegression</label><div class=\"sk-toggleable__content\"><pre>LogisticRegression()</pre></div></div></div></div></div>"
      ],
      "text/plain": [
       "LogisticRegression()"
      ]
     },
     "execution_count": 69,
     "metadata": {},
     "output_type": "execute_result"
    }
   ],
   "source": [
    "clf = LogisticRegression()\n",
    "clf.fit(X_train, y_train)"
   ]
  },
  {
   "cell_type": "code",
   "execution_count": 70,
   "id": "84d43906",
   "metadata": {},
   "outputs": [],
   "source": [
    "y_pred = clf.predict(X_test)"
   ]
  },
  {
   "cell_type": "code",
   "execution_count": 71,
   "id": "c74da232",
   "metadata": {},
   "outputs": [],
   "source": [
    "accuracy_log = clf.score(X_test,y_test)\n"
   ]
  },
  {
   "cell_type": "code",
   "execution_count": 73,
   "id": "715f36c4",
   "metadata": {},
   "outputs": [
    {
     "data": {
      "text/plain": [
       "0.6869565217391305"
      ]
     },
     "execution_count": 73,
     "metadata": {},
     "output_type": "execute_result"
    }
   ],
   "source": [
    "accuracy_log"
   ]
  },
  {
   "cell_type": "markdown",
   "id": "10cb0fe3",
   "metadata": {},
   "source": [
    "# 2. KNN"
   ]
  },
  {
   "cell_type": "code",
   "execution_count": 74,
   "id": "9977f1f8",
   "metadata": {},
   "outputs": [],
   "source": [
    "from sklearn.neighbors import KNeighborsClassifier"
   ]
  },
  {
   "cell_type": "code",
   "execution_count": 75,
   "id": "41dacb77",
   "metadata": {},
   "outputs": [
    {
     "data": {
      "text/html": [
       "<style>#sk-container-id-2 {color: black;background-color: white;}#sk-container-id-2 pre{padding: 0;}#sk-container-id-2 div.sk-toggleable {background-color: white;}#sk-container-id-2 label.sk-toggleable__label {cursor: pointer;display: block;width: 100%;margin-bottom: 0;padding: 0.3em;box-sizing: border-box;text-align: center;}#sk-container-id-2 label.sk-toggleable__label-arrow:before {content: \"▸\";float: left;margin-right: 0.25em;color: #696969;}#sk-container-id-2 label.sk-toggleable__label-arrow:hover:before {color: black;}#sk-container-id-2 div.sk-estimator:hover label.sk-toggleable__label-arrow:before {color: black;}#sk-container-id-2 div.sk-toggleable__content {max-height: 0;max-width: 0;overflow: hidden;text-align: left;background-color: #f0f8ff;}#sk-container-id-2 div.sk-toggleable__content pre {margin: 0.2em;color: black;border-radius: 0.25em;background-color: #f0f8ff;}#sk-container-id-2 input.sk-toggleable__control:checked~div.sk-toggleable__content {max-height: 200px;max-width: 100%;overflow: auto;}#sk-container-id-2 input.sk-toggleable__control:checked~label.sk-toggleable__label-arrow:before {content: \"▾\";}#sk-container-id-2 div.sk-estimator input.sk-toggleable__control:checked~label.sk-toggleable__label {background-color: #d4ebff;}#sk-container-id-2 div.sk-label input.sk-toggleable__control:checked~label.sk-toggleable__label {background-color: #d4ebff;}#sk-container-id-2 input.sk-hidden--visually {border: 0;clip: rect(1px 1px 1px 1px);clip: rect(1px, 1px, 1px, 1px);height: 1px;margin: -1px;overflow: hidden;padding: 0;position: absolute;width: 1px;}#sk-container-id-2 div.sk-estimator {font-family: monospace;background-color: #f0f8ff;border: 1px dotted black;border-radius: 0.25em;box-sizing: border-box;margin-bottom: 0.5em;}#sk-container-id-2 div.sk-estimator:hover {background-color: #d4ebff;}#sk-container-id-2 div.sk-parallel-item::after {content: \"\";width: 100%;border-bottom: 1px solid gray;flex-grow: 1;}#sk-container-id-2 div.sk-label:hover label.sk-toggleable__label {background-color: #d4ebff;}#sk-container-id-2 div.sk-serial::before {content: \"\";position: absolute;border-left: 1px solid gray;box-sizing: border-box;top: 0;bottom: 0;left: 50%;z-index: 0;}#sk-container-id-2 div.sk-serial {display: flex;flex-direction: column;align-items: center;background-color: white;padding-right: 0.2em;padding-left: 0.2em;position: relative;}#sk-container-id-2 div.sk-item {position: relative;z-index: 1;}#sk-container-id-2 div.sk-parallel {display: flex;align-items: stretch;justify-content: center;background-color: white;position: relative;}#sk-container-id-2 div.sk-item::before, #sk-container-id-2 div.sk-parallel-item::before {content: \"\";position: absolute;border-left: 1px solid gray;box-sizing: border-box;top: 0;bottom: 0;left: 50%;z-index: -1;}#sk-container-id-2 div.sk-parallel-item {display: flex;flex-direction: column;z-index: 1;position: relative;background-color: white;}#sk-container-id-2 div.sk-parallel-item:first-child::after {align-self: flex-end;width: 50%;}#sk-container-id-2 div.sk-parallel-item:last-child::after {align-self: flex-start;width: 50%;}#sk-container-id-2 div.sk-parallel-item:only-child::after {width: 0;}#sk-container-id-2 div.sk-dashed-wrapped {border: 1px dashed gray;margin: 0 0.4em 0.5em 0.4em;box-sizing: border-box;padding-bottom: 0.4em;background-color: white;}#sk-container-id-2 div.sk-label label {font-family: monospace;font-weight: bold;display: inline-block;line-height: 1.2em;}#sk-container-id-2 div.sk-label-container {text-align: center;}#sk-container-id-2 div.sk-container {/* jupyter's `normalize.less` sets `[hidden] { display: none; }` but bootstrap.min.css set `[hidden] { display: none !important; }` so we also need the `!important` here to be able to override the default hidden behavior on the sphinx rendered scikit-learn.org. See: https://github.com/scikit-learn/scikit-learn/issues/21755 */display: inline-block !important;position: relative;}#sk-container-id-2 div.sk-text-repr-fallback {display: none;}</style><div id=\"sk-container-id-2\" class=\"sk-top-container\"><div class=\"sk-text-repr-fallback\"><pre>KNeighborsClassifier()</pre><b>In a Jupyter environment, please rerun this cell to show the HTML representation or trust the notebook. <br />On GitHub, the HTML representation is unable to render, please try loading this page with nbviewer.org.</b></div><div class=\"sk-container\" hidden><div class=\"sk-item\"><div class=\"sk-estimator sk-toggleable\"><input class=\"sk-toggleable__control sk-hidden--visually\" id=\"sk-estimator-id-2\" type=\"checkbox\" checked><label for=\"sk-estimator-id-2\" class=\"sk-toggleable__label sk-toggleable__label-arrow\">KNeighborsClassifier</label><div class=\"sk-toggleable__content\"><pre>KNeighborsClassifier()</pre></div></div></div></div></div>"
      ],
      "text/plain": [
       "KNeighborsClassifier()"
      ]
     },
     "execution_count": 75,
     "metadata": {},
     "output_type": "execute_result"
    }
   ],
   "source": [
    "knn = KNeighborsClassifier()\n",
    "knn.fit(X_train, y_train)"
   ]
  },
  {
   "cell_type": "code",
   "execution_count": 76,
   "id": "0d99e74b",
   "metadata": {},
   "outputs": [],
   "source": [
    "y_pred = knn.predict(X_test)"
   ]
  },
  {
   "cell_type": "code",
   "execution_count": 94,
   "id": "d8fb8cf0",
   "metadata": {},
   "outputs": [
    {
     "data": {
      "text/plain": [
       "0.6434782608695652"
      ]
     },
     "execution_count": 94,
     "metadata": {},
     "output_type": "execute_result"
    }
   ],
   "source": [
    "accuracy_knn = knn.score(X_test,y_test)\n",
    "accuracy_knn"
   ]
  },
  {
   "cell_type": "markdown",
   "id": "841450db",
   "metadata": {},
   "source": [
    "# 3. Support vector classifier"
   ]
  },
  {
   "cell_type": "code",
   "execution_count": 79,
   "id": "f58492b0",
   "metadata": {},
   "outputs": [],
   "source": [
    "from sklearn import svm"
   ]
  },
  {
   "cell_type": "code",
   "execution_count": 80,
   "id": "c0337b49",
   "metadata": {},
   "outputs": [
    {
     "data": {
      "text/html": [
       "<style>#sk-container-id-3 {color: black;background-color: white;}#sk-container-id-3 pre{padding: 0;}#sk-container-id-3 div.sk-toggleable {background-color: white;}#sk-container-id-3 label.sk-toggleable__label {cursor: pointer;display: block;width: 100%;margin-bottom: 0;padding: 0.3em;box-sizing: border-box;text-align: center;}#sk-container-id-3 label.sk-toggleable__label-arrow:before {content: \"▸\";float: left;margin-right: 0.25em;color: #696969;}#sk-container-id-3 label.sk-toggleable__label-arrow:hover:before {color: black;}#sk-container-id-3 div.sk-estimator:hover label.sk-toggleable__label-arrow:before {color: black;}#sk-container-id-3 div.sk-toggleable__content {max-height: 0;max-width: 0;overflow: hidden;text-align: left;background-color: #f0f8ff;}#sk-container-id-3 div.sk-toggleable__content pre {margin: 0.2em;color: black;border-radius: 0.25em;background-color: #f0f8ff;}#sk-container-id-3 input.sk-toggleable__control:checked~div.sk-toggleable__content {max-height: 200px;max-width: 100%;overflow: auto;}#sk-container-id-3 input.sk-toggleable__control:checked~label.sk-toggleable__label-arrow:before {content: \"▾\";}#sk-container-id-3 div.sk-estimator input.sk-toggleable__control:checked~label.sk-toggleable__label {background-color: #d4ebff;}#sk-container-id-3 div.sk-label input.sk-toggleable__control:checked~label.sk-toggleable__label {background-color: #d4ebff;}#sk-container-id-3 input.sk-hidden--visually {border: 0;clip: rect(1px 1px 1px 1px);clip: rect(1px, 1px, 1px, 1px);height: 1px;margin: -1px;overflow: hidden;padding: 0;position: absolute;width: 1px;}#sk-container-id-3 div.sk-estimator {font-family: monospace;background-color: #f0f8ff;border: 1px dotted black;border-radius: 0.25em;box-sizing: border-box;margin-bottom: 0.5em;}#sk-container-id-3 div.sk-estimator:hover {background-color: #d4ebff;}#sk-container-id-3 div.sk-parallel-item::after {content: \"\";width: 100%;border-bottom: 1px solid gray;flex-grow: 1;}#sk-container-id-3 div.sk-label:hover label.sk-toggleable__label {background-color: #d4ebff;}#sk-container-id-3 div.sk-serial::before {content: \"\";position: absolute;border-left: 1px solid gray;box-sizing: border-box;top: 0;bottom: 0;left: 50%;z-index: 0;}#sk-container-id-3 div.sk-serial {display: flex;flex-direction: column;align-items: center;background-color: white;padding-right: 0.2em;padding-left: 0.2em;position: relative;}#sk-container-id-3 div.sk-item {position: relative;z-index: 1;}#sk-container-id-3 div.sk-parallel {display: flex;align-items: stretch;justify-content: center;background-color: white;position: relative;}#sk-container-id-3 div.sk-item::before, #sk-container-id-3 div.sk-parallel-item::before {content: \"\";position: absolute;border-left: 1px solid gray;box-sizing: border-box;top: 0;bottom: 0;left: 50%;z-index: -1;}#sk-container-id-3 div.sk-parallel-item {display: flex;flex-direction: column;z-index: 1;position: relative;background-color: white;}#sk-container-id-3 div.sk-parallel-item:first-child::after {align-self: flex-end;width: 50%;}#sk-container-id-3 div.sk-parallel-item:last-child::after {align-self: flex-start;width: 50%;}#sk-container-id-3 div.sk-parallel-item:only-child::after {width: 0;}#sk-container-id-3 div.sk-dashed-wrapped {border: 1px dashed gray;margin: 0 0.4em 0.5em 0.4em;box-sizing: border-box;padding-bottom: 0.4em;background-color: white;}#sk-container-id-3 div.sk-label label {font-family: monospace;font-weight: bold;display: inline-block;line-height: 1.2em;}#sk-container-id-3 div.sk-label-container {text-align: center;}#sk-container-id-3 div.sk-container {/* jupyter's `normalize.less` sets `[hidden] { display: none; }` but bootstrap.min.css set `[hidden] { display: none !important; }` so we also need the `!important` here to be able to override the default hidden behavior on the sphinx rendered scikit-learn.org. See: https://github.com/scikit-learn/scikit-learn/issues/21755 */display: inline-block !important;position: relative;}#sk-container-id-3 div.sk-text-repr-fallback {display: none;}</style><div id=\"sk-container-id-3\" class=\"sk-top-container\"><div class=\"sk-text-repr-fallback\"><pre>SVC()</pre><b>In a Jupyter environment, please rerun this cell to show the HTML representation or trust the notebook. <br />On GitHub, the HTML representation is unable to render, please try loading this page with nbviewer.org.</b></div><div class=\"sk-container\" hidden><div class=\"sk-item\"><div class=\"sk-estimator sk-toggleable\"><input class=\"sk-toggleable__control sk-hidden--visually\" id=\"sk-estimator-id-3\" type=\"checkbox\" checked><label for=\"sk-estimator-id-3\" class=\"sk-toggleable__label sk-toggleable__label-arrow\">SVC</label><div class=\"sk-toggleable__content\"><pre>SVC()</pre></div></div></div></div></div>"
      ],
      "text/plain": [
       "SVC()"
      ]
     },
     "execution_count": 80,
     "metadata": {},
     "output_type": "execute_result"
    }
   ],
   "source": [
    "svc = svm.SVC()\n",
    "svc.fit(X_train, y_train)"
   ]
  },
  {
   "cell_type": "code",
   "execution_count": 81,
   "id": "de7b848e",
   "metadata": {},
   "outputs": [],
   "source": [
    "y_pred = svc.predict(X_test)"
   ]
  },
  {
   "cell_type": "code",
   "execution_count": 93,
   "id": "557dca2d",
   "metadata": {},
   "outputs": [
    {
     "data": {
      "text/plain": [
       "0.6869565217391305"
      ]
     },
     "execution_count": 93,
     "metadata": {},
     "output_type": "execute_result"
    }
   ],
   "source": [
    "accuracy_svc = svc.score(X_test,y_test)\n",
    "accuracy_svc"
   ]
  },
  {
   "cell_type": "markdown",
   "id": "607f1031",
   "metadata": {},
   "source": [
    "# 4. Decision Tree Classifier"
   ]
  },
  {
   "cell_type": "code",
   "execution_count": 85,
   "id": "9b7367b6",
   "metadata": {},
   "outputs": [],
   "source": [
    "from sklearn.tree import DecisionTreeClassifier"
   ]
  },
  {
   "cell_type": "code",
   "execution_count": 86,
   "id": "9fbc4938",
   "metadata": {},
   "outputs": [
    {
     "data": {
      "text/html": [
       "<style>#sk-container-id-4 {color: black;background-color: white;}#sk-container-id-4 pre{padding: 0;}#sk-container-id-4 div.sk-toggleable {background-color: white;}#sk-container-id-4 label.sk-toggleable__label {cursor: pointer;display: block;width: 100%;margin-bottom: 0;padding: 0.3em;box-sizing: border-box;text-align: center;}#sk-container-id-4 label.sk-toggleable__label-arrow:before {content: \"▸\";float: left;margin-right: 0.25em;color: #696969;}#sk-container-id-4 label.sk-toggleable__label-arrow:hover:before {color: black;}#sk-container-id-4 div.sk-estimator:hover label.sk-toggleable__label-arrow:before {color: black;}#sk-container-id-4 div.sk-toggleable__content {max-height: 0;max-width: 0;overflow: hidden;text-align: left;background-color: #f0f8ff;}#sk-container-id-4 div.sk-toggleable__content pre {margin: 0.2em;color: black;border-radius: 0.25em;background-color: #f0f8ff;}#sk-container-id-4 input.sk-toggleable__control:checked~div.sk-toggleable__content {max-height: 200px;max-width: 100%;overflow: auto;}#sk-container-id-4 input.sk-toggleable__control:checked~label.sk-toggleable__label-arrow:before {content: \"▾\";}#sk-container-id-4 div.sk-estimator input.sk-toggleable__control:checked~label.sk-toggleable__label {background-color: #d4ebff;}#sk-container-id-4 div.sk-label input.sk-toggleable__control:checked~label.sk-toggleable__label {background-color: #d4ebff;}#sk-container-id-4 input.sk-hidden--visually {border: 0;clip: rect(1px 1px 1px 1px);clip: rect(1px, 1px, 1px, 1px);height: 1px;margin: -1px;overflow: hidden;padding: 0;position: absolute;width: 1px;}#sk-container-id-4 div.sk-estimator {font-family: monospace;background-color: #f0f8ff;border: 1px dotted black;border-radius: 0.25em;box-sizing: border-box;margin-bottom: 0.5em;}#sk-container-id-4 div.sk-estimator:hover {background-color: #d4ebff;}#sk-container-id-4 div.sk-parallel-item::after {content: \"\";width: 100%;border-bottom: 1px solid gray;flex-grow: 1;}#sk-container-id-4 div.sk-label:hover label.sk-toggleable__label {background-color: #d4ebff;}#sk-container-id-4 div.sk-serial::before {content: \"\";position: absolute;border-left: 1px solid gray;box-sizing: border-box;top: 0;bottom: 0;left: 50%;z-index: 0;}#sk-container-id-4 div.sk-serial {display: flex;flex-direction: column;align-items: center;background-color: white;padding-right: 0.2em;padding-left: 0.2em;position: relative;}#sk-container-id-4 div.sk-item {position: relative;z-index: 1;}#sk-container-id-4 div.sk-parallel {display: flex;align-items: stretch;justify-content: center;background-color: white;position: relative;}#sk-container-id-4 div.sk-item::before, #sk-container-id-4 div.sk-parallel-item::before {content: \"\";position: absolute;border-left: 1px solid gray;box-sizing: border-box;top: 0;bottom: 0;left: 50%;z-index: -1;}#sk-container-id-4 div.sk-parallel-item {display: flex;flex-direction: column;z-index: 1;position: relative;background-color: white;}#sk-container-id-4 div.sk-parallel-item:first-child::after {align-self: flex-end;width: 50%;}#sk-container-id-4 div.sk-parallel-item:last-child::after {align-self: flex-start;width: 50%;}#sk-container-id-4 div.sk-parallel-item:only-child::after {width: 0;}#sk-container-id-4 div.sk-dashed-wrapped {border: 1px dashed gray;margin: 0 0.4em 0.5em 0.4em;box-sizing: border-box;padding-bottom: 0.4em;background-color: white;}#sk-container-id-4 div.sk-label label {font-family: monospace;font-weight: bold;display: inline-block;line-height: 1.2em;}#sk-container-id-4 div.sk-label-container {text-align: center;}#sk-container-id-4 div.sk-container {/* jupyter's `normalize.less` sets `[hidden] { display: none; }` but bootstrap.min.css set `[hidden] { display: none !important; }` so we also need the `!important` here to be able to override the default hidden behavior on the sphinx rendered scikit-learn.org. See: https://github.com/scikit-learn/scikit-learn/issues/21755 */display: inline-block !important;position: relative;}#sk-container-id-4 div.sk-text-repr-fallback {display: none;}</style><div id=\"sk-container-id-4\" class=\"sk-top-container\"><div class=\"sk-text-repr-fallback\"><pre>DecisionTreeClassifier()</pre><b>In a Jupyter environment, please rerun this cell to show the HTML representation or trust the notebook. <br />On GitHub, the HTML representation is unable to render, please try loading this page with nbviewer.org.</b></div><div class=\"sk-container\" hidden><div class=\"sk-item\"><div class=\"sk-estimator sk-toggleable\"><input class=\"sk-toggleable__control sk-hidden--visually\" id=\"sk-estimator-id-4\" type=\"checkbox\" checked><label for=\"sk-estimator-id-4\" class=\"sk-toggleable__label sk-toggleable__label-arrow\">DecisionTreeClassifier</label><div class=\"sk-toggleable__content\"><pre>DecisionTreeClassifier()</pre></div></div></div></div></div>"
      ],
      "text/plain": [
       "DecisionTreeClassifier()"
      ]
     },
     "execution_count": 86,
     "metadata": {},
     "output_type": "execute_result"
    }
   ],
   "source": [
    "dtc = DecisionTreeClassifier()\n",
    "dtc.fit(X_train, y_train)"
   ]
  },
  {
   "cell_type": "code",
   "execution_count": 87,
   "id": "92f2de65",
   "metadata": {},
   "outputs": [],
   "source": [
    "y_pred = dtc.predict(X_test)"
   ]
  },
  {
   "cell_type": "code",
   "execution_count": 92,
   "id": "e0c1dbcf",
   "metadata": {},
   "outputs": [
    {
     "data": {
      "text/plain": [
       "0.7043478260869566"
      ]
     },
     "execution_count": 92,
     "metadata": {},
     "output_type": "execute_result"
    }
   ],
   "source": [
    "accuracy_dtc = dtc.score(X_test,y_test)\n",
    "accuracy_dtc"
   ]
  },
  {
   "cell_type": "markdown",
   "id": "664937da",
   "metadata": {},
   "source": [
    "# Model Comparing"
   ]
  },
  {
   "cell_type": "code",
   "execution_count": 96,
   "id": "93a315cc",
   "metadata": {},
   "outputs": [
    {
     "data": {
      "text/html": [
       "<div>\n",
       "<style scoped>\n",
       "    .dataframe tbody tr th:only-of-type {\n",
       "        vertical-align: middle;\n",
       "    }\n",
       "\n",
       "    .dataframe tbody tr th {\n",
       "        vertical-align: top;\n",
       "    }\n",
       "\n",
       "    .dataframe thead th {\n",
       "        text-align: right;\n",
       "    }\n",
       "</style>\n",
       "<table border=\"1\" class=\"dataframe\">\n",
       "  <thead>\n",
       "    <tr style=\"text-align: right;\">\n",
       "      <th></th>\n",
       "      <th>Model</th>\n",
       "      <th>Accuracy</th>\n",
       "    </tr>\n",
       "  </thead>\n",
       "  <tbody>\n",
       "    <tr>\n",
       "      <th>3</th>\n",
       "      <td>Decision Tree</td>\n",
       "      <td>70.434783</td>\n",
       "    </tr>\n",
       "    <tr>\n",
       "      <th>0</th>\n",
       "      <td>Logistic Regression</td>\n",
       "      <td>68.695652</td>\n",
       "    </tr>\n",
       "    <tr>\n",
       "      <th>2</th>\n",
       "      <td>SVC</td>\n",
       "      <td>68.695652</td>\n",
       "    </tr>\n",
       "    <tr>\n",
       "      <th>1</th>\n",
       "      <td>K Neighbors</td>\n",
       "      <td>64.347826</td>\n",
       "    </tr>\n",
       "  </tbody>\n",
       "</table>\n",
       "</div>"
      ],
      "text/plain": [
       "                 Model   Accuracy\n",
       "3        Decision Tree  70.434783\n",
       "0  Logistic Regression  68.695652\n",
       "2                  SVC  68.695652\n",
       "1          K Neighbors  64.347826"
      ]
     },
     "execution_count": 96,
     "metadata": {},
     "output_type": "execute_result"
    }
   ],
   "source": [
    "comparison = pd.DataFrame({'Model': ['Logistic Regression', 'K Neighbors', \n",
    "                                  'SVC',\n",
    "                                  'Decision Tree'], \n",
    "                        'Accuracy': [accuracy_log*100, accuracy_knn*100, \n",
    "                                     accuracy_svc*100, accuracy_dtc*100]})\n",
    "comparison.sort_values(by='Accuracy', ascending=False)"
   ]
  },
  {
   "cell_type": "code",
   "execution_count": null,
   "id": "1fcffcdb",
   "metadata": {},
   "outputs": [],
   "source": []
  }
 ],
 "metadata": {
  "kernelspec": {
   "display_name": "Python 3 (ipykernel)",
   "language": "python",
   "name": "python3"
  },
  "language_info": {
   "codemirror_mode": {
    "name": "ipython",
    "version": 3
   },
   "file_extension": ".py",
   "mimetype": "text/x-python",
   "name": "python",
   "nbconvert_exporter": "python",
   "pygments_lexer": "ipython3",
   "version": "3.11.0"
  }
 },
 "nbformat": 4,
 "nbformat_minor": 5
}
